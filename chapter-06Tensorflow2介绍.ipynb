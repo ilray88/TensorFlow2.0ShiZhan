{
 "cells": [
  {
   "cell_type": "code",
   "execution_count": 1,
   "metadata": {},
   "outputs": [],
   "source": [
    "import pandas as pd\n",
    "import numpy as np\n",
    "import matplotlib.pyplot as plt\n",
    "\n",
    "%matplotlib inline\n",
    "\n",
    "# 定义数据处理方法\n",
    "def preprocess_dataset(data_frame):\n",
    "    # 先复制产生一个新的数据集，这样我们的原始数据集不会被修改\n",
    "    data_frame = data_frame.copy()\n",
    "\n",
    "    # 丢弃缺失年龄，性别和登船口岸信息的数据\n",
    "    data_frame = data_frame.dropna(subset=['Age', 'Sex', 'Embarked', 'Fare'])\n",
    "\n",
    "    # 把性别从 male, female 转换成 0 和 1\n",
    "    data_frame.Sex = data_frame.Sex.replace(['male', 'female'], value=[0, 1])\n",
    "\n",
    "    # 把登船口岸从 S, C, Q 转换成 0, 1, 2\n",
    "    data_frame.Embarked = data_frame.Embarked.replace(['S', 'C', 'Q'], value=[0, 1, 2])\n",
    "\n",
    "    # 丢弃我们不需要的字段\n",
    "    data_frame = data_frame.drop(columns=['Name', 'Ticket', 'Cabin', 'PassengerId'])\n",
    "    return data_frame\n",
    "\n",
    "# 读取和处理训练数据数据\n",
    "df = pd.read_csv('data/titanic/train.csv')\n",
    "train_df = preprocess_dataset(df)\n",
    "\n",
    "# 拆分特征和标签\n",
    "train_labels = train_df.pop('Survived')\n",
    "\n",
    "# 定义模型\n",
    "from tensorflow.python import keras\n",
    "\n",
    "# 使用 L 代表 keras.layers ，方便后续调用\n",
    "L = keras.layers\n",
    "\n",
    "model = keras.Sequential([\n",
    "    # 添加一个包含 12 个神经元的全连接层，输入维度为 7，输出维度 12\n",
    "    L.Dense(12, input_dim=7, activation='relu', name='input_layer'),\n",
    "    # 添加一个包含 6 个神经元的全连接层，上层的输出为本层的输入\n",
    "    L.Dense(6, activation='relu', name='hidden_layer'),\n",
    "    # 添加一个包含 1 个神经元的全连接层，使用 sigmoid 函数来确保网络输出在 0 和 1 之间\n",
    "    L.Dense(1, activation='sigmoid', name='output_layer')\n",
    "])\n",
    "\n",
    "# 编译模型\n",
    "model.compile(loss='binary_crossentropy', optimizer='adam', metrics=['accuracy'])"
   ]
  },
  {
   "cell_type": "markdown",
   "metadata": {},
   "source": [
    "## 6.2 模型保存和恢复\n",
    "### 6.2.1 全模型保存"
   ]
  },
  {
   "cell_type": "code",
   "execution_count": 2,
   "metadata": {},
   "outputs": [
    {
     "name": "stdout",
     "output_type": "stream",
     "text": [
      "Model: \"sequential\"\n",
      "_________________________________________________________________\n",
      "Layer (type)                 Output Shape              Param #   \n",
      "=================================================================\n",
      "input_layer (Dense)          (None, 12)                96        \n",
      "_________________________________________________________________\n",
      "hidden_layer (Dense)         (None, 6)                 78        \n",
      "_________________________________________________________________\n",
      "output_layer (Dense)         (None, 1)                 7         \n",
      "=================================================================\n",
      "Total params: 181\n",
      "Trainable params: 181\n",
      "Non-trainable params: 0\n",
      "_________________________________________________________________\n"
     ]
    }
   ],
   "source": [
    "import tensorflow as tf\n",
    "import os\n",
    "# 创建目录\n",
    "os.makedirs('outputs/chapter6', exist_ok=True)\n",
    "\n",
    "# 保存模型\n",
    "model.save('outputs/chapter6/my_model.h5')\n",
    "\n",
    "# 使用保存的文件恢复模型，此时不需要任何之前的代码，只需要这个文件\n",
    "new_model = tf.keras.models.load_model('outputs/chapter6/my_model.h5')\n",
    "new_model.summary()"
   ]
  },
  {
   "cell_type": "markdown",
   "metadata": {},
   "source": [
    "### 6.2.2 保存为 SavedModel"
   ]
  },
  {
   "cell_type": "code",
   "execution_count": 3,
   "metadata": {},
   "outputs": [
    {
     "name": "stdout",
     "output_type": "stream",
     "text": [
      "WARNING:tensorflow:From D:\\0ilraypan\\python_work\\env\\tensorflow2.0\\lib\\site-packages\\tensorflow\\python\\training\\tracking\\tracking.py:111: Model.state_updates (from tensorflow.python.keras.engine.training) is deprecated and will be removed in a future version.\n",
      "Instructions for updating:\n",
      "This property should not be used in TensorFlow 2.0, as updates are applied automatically.\n",
      "WARNING:tensorflow:From D:\\0ilraypan\\python_work\\env\\tensorflow2.0\\lib\\site-packages\\tensorflow\\python\\training\\tracking\\tracking.py:111: Layer.updates (from tensorflow.python.keras.engine.base_layer) is deprecated and will be removed in a future version.\n",
      "Instructions for updating:\n",
      "This property should not be used in TensorFlow 2.0, as updates are applied automatically.\n",
      "INFO:tensorflow:Assets written to: outputs/chapter6/saved_model\\assets\n"
     ]
    },
    {
     "name": "stderr",
     "output_type": "stream",
     "text": [
      "'ls' 不是内部或外部命令，也不是可运行的程序\n",
      "或批处理文件。\n"
     ]
    }
   ],
   "source": [
    "# 保存模型为 SavedModel 格式\n",
    "tf.saved_model.save(model, 'outputs/chapter6/saved_model')\n",
    "# 加载 SavedModel 模型为 Keras 模型\n",
    "new_model = tf.keras.models.load_model('outputs/chapter6/saved_model')\n",
    "!ls outputs/chapter6/saved_model"
   ]
  },
  {
   "cell_type": "markdown",
   "metadata": {},
   "source": [
    "### 6.2.3 仅保存模型结构"
   ]
  },
  {
   "cell_type": "code",
   "execution_count": 4,
   "metadata": {},
   "outputs": [],
   "source": [
    "# 获取模型配置，config 是个 python 字典。\n",
    "config = model.get_config()\n",
    "\n",
    "# 使用配置字典重新初始化模型\n",
    "reinitialized_model = keras.Sequential.from_config(config)"
   ]
  },
  {
   "cell_type": "markdown",
   "metadata": {},
   "source": [
    "### 6.2.4 仅保存模型权重"
   ]
  },
  {
   "cell_type": "code",
   "execution_count": 5,
   "metadata": {},
   "outputs": [],
   "source": [
    "weights = model.get_weights()  # 获取模型的权重\n",
    "model.set_weights(weights)     # 为模型设定权重\n",
    "\n",
    "# 把权重保存到磁盘\n",
    "model.save_weights('outputs/chapter6/model_weights.h5')\n",
    "# 从磁盘加载模型权重\n",
    "model.load_weights('outputs/chapter6/model_weights.h5')"
   ]
  },
  {
   "cell_type": "markdown",
   "metadata": {},
   "source": [
    "## 6.3 模型增量更新"
   ]
  },
  {
   "cell_type": "code",
   "execution_count": 6,
   "metadata": {},
   "outputs": [
    {
     "name": "stdout",
     "output_type": "stream",
     "text": [
      "1/1 [==============================] - 0s 0s/step - loss: 0.7999 - accuracy: 0.0000e+00\b\b\b\b\b\b\b\b\b\b\b\b\b\b\b\b\b\b\b\b\b\b\b\b\b\b\b\b\b\b\b\b\b\b\b\b\b\b\b\b\b\b\b\b\b\b\b\b\b\b\b\b\b\b\b\b\b\b\b\b\b\b\b\b\b\b\b\b\b\b\b\b\b\b\b\b\b\b\b\b\b\n"
     ]
    },
    {
     "data": {
      "text/plain": "<tensorflow.python.keras.callbacks.History at 0x1f5cacd9308>"
     },
     "execution_count": 6,
     "metadata": {},
     "output_type": "execute_result"
    }
   ],
   "source": [
    "# 加载保存模型\n",
    "new_model = tf.keras.models.load_model('outputs/chapter6/my_model.h5')\n",
    "# 或加载 SavedModel 格式模型\n",
    "new_model = tf.keras.models.load_model('outputs/chapter6/saved_model')\n",
    "\n",
    "# 假数据\n",
    "new_x = np.random.random((10,7))\n",
    "new_y = np.random.randint(0, 1, 10)\n",
    "\n",
    "# 继续调用 fit 训练即可\n",
    "new_model.fit(new_x, new_y)"
   ]
  },
  {
   "cell_type": "markdown",
   "metadata": {},
   "source": [
    "## 6.4 训练回调\n",
    "### 6.4.1 模型检查点和提前终止"
   ]
  },
  {
   "cell_type": "code",
   "execution_count": 7,
   "metadata": {},
   "outputs": [
    {
     "name": "stdout",
     "output_type": "stream",
     "text": [
      "Epoch 1/40\n",
      "23/23 [==============================] - 0s 8ms/step - loss: 2.4263 - accuracy: 0.4874 - val_loss: 1.8354 - val_accuracy: 0.5927\b\b\b\b\b\b\b\b\b\b\b\b\b\b\b\b\b\b\b\b\b\b\b\b\b\b\b\b\b\b\b\b\b\b\b\b\n",
      "Epoch 2/40\n",
      "23/23 [==============================] - 0s 2ms/step - loss: 1.5393 - accuracy: 0.6390 - val_loss: 1.2477 - val_accuracy: 0.6882\b\b\b\b\b\b\b\b\b\b\b\b\b\b\b\b\b\b\b\b\b\b\b\b\b\b\b\b\b\b\b\b\b\b\b\b\n",
      "Epoch 3/40\n",
      "23/23 [==============================] - 0s 1ms/step - loss: 1.1059 - accuracy: 0.6882 - val_loss: 0.9666 - val_accuracy: 0.6854\b\b\b\b\b\b\b\b\b\b\b\b\b\b\b\b\b\b\b\b\b\b\b\b\b\b\b\b\b\b\b\b\b\b\b\b\n",
      "Epoch 4/40\n",
      "23/23 [==============================] - 0s 1ms/step - loss: 0.8643 - accuracy: 0.6896 - val_loss: 0.7741 - val_accuracy: 0.6882\b\b\b\b\b\b\b\b\b\b\b\b\b\b\b\b\b\b\b\b\b\b\b\b\b\b\b\b\b\b\b\b\b\b\b\b\n",
      "Epoch 5/40\n",
      "23/23 [==============================] - 0s 1ms/step - loss: 0.7243 - accuracy: 0.6938 - val_loss: 0.6933 - val_accuracy: 0.6756\b\b\b\b\b\b\b\b\b\b\b\b\b\b\b\b\b\b\b\b\b\b\b\b\b\b\b\b\b\b\b\b\b\b\b\b\n"
     ]
    },
    {
     "data": {
      "text/plain": "<tensorflow.python.keras.callbacks.History at 0x1f5cc7050c8>"
     },
     "execution_count": 7,
     "metadata": {},
     "output_type": "execute_result"
    }
   ],
   "source": [
    "import tensorflow as tf\n",
    "\n",
    "# 当被监测的指标不再提升，则停止训练。\n",
    "early_stop = tf.keras.callbacks.EarlyStopping(\n",
    "    monitor='val_accuracy',  # 被监测的指标，这里监控模型验证集准确度\n",
    "    patience=3)              # 如果指标在多余三轮的时间（即四轮）不变后，中断训练\n",
    "\n",
    "# 在每个训练期之后保存模型。\n",
    "model_path = 'outputs/chapter6/best_model.h5'\n",
    "model_checkpoint = tf.keras.callbacks.ModelCheckpoint(\n",
    "    filepath=model_path,    # 模型存储路径\n",
    "    monitor='val_accuracy', # 被监测的指标，这里监控模型验证集准确度\n",
    "    save_best_only=True)    # 只有指标被改善时候存储，如果为 False，则每一轮保存\n",
    "\n",
    "model.fit(train_df.values,\n",
    "          train_labels.values,\n",
    "          validation_data=(train_df.values, train_labels.values),\n",
    "          epochs=40,\n",
    "          callbacks=[early_stop, model_checkpoint])"
   ]
  },
  {
   "cell_type": "markdown",
   "metadata": {},
   "source": [
    "### 6.4.2 动态调整学习率"
   ]
  },
  {
   "cell_type": "code",
   "execution_count": 8,
   "metadata": {},
   "outputs": [
    {
     "name": "stdout",
     "output_type": "stream",
     "text": [
      "Epoch 1/40\n",
      "23/23 [==============================] - 0s 2ms/step - loss: 0.6846 - accuracy: 0.6713 - val_loss: 0.6670 - val_accuracy: 0.6798\b\b\b\b\b\b\b\b\b\b\b\b\b\b\b\b\b\b\b\b\b\b\b\b\b\b\b\b\b\b\b\b\b\b\b\b\n",
      "Epoch 2/40\n",
      "23/23 [==============================] - 0s 1ms/step - loss: 0.6611 - accuracy: 0.6713 - val_loss: 0.6555 - val_accuracy: 0.6728\b\b\b\b\b\b\b\b\b\b\b\b\b\b\b\b\b\b\b\b\b\b\b\b\b\b\b\b\b\b\b\b\b\b\b\b\n",
      "Epoch 3/40\n",
      "23/23 [==============================] - 0s 1ms/step - loss: 0.6562 - accuracy: 0.6756 - val_loss: 0.6466 - val_accuracy: 0.6728\b\b\b\b\b\b\b\b\b\b\b\b\b\b\b\b\b\b\b\b\b\b\b\b\b\b\b\b\b\b\b\b\b\b\b\b\n",
      "Epoch 4/40\n",
      "23/23 [==============================] - 0s 1ms/step - loss: 0.6488 - accuracy: 0.6756 - val_loss: 0.6409 - val_accuracy: 0.6812\b\b\b\b\b\b\b\b\b\b\b\b\b\b\b\b\b\b\b\b\b\b\b\b\b\b\b\b\b\b\b\b\b\b\b\b\n",
      "Epoch 5/40\n",
      "23/23 [==============================] - 0s 1ms/step - loss: 0.6385 - accuracy: 0.6798 - val_loss: 0.6340 - val_accuracy: 0.6826\b\b\b\b\b\b\b\b\b\b\b\b\b\b\b\b\b\b\b\b\b\b\b\b\b\b\b\b\b\b\b\b\b\b\b\b\n",
      "Epoch 6/40\n",
      "23/23 [==============================] - 0s 1ms/step - loss: 0.6343 - accuracy: 0.6812 - val_loss: 0.6288 - val_accuracy: 0.6924\b\b\b\b\b\b\b\b\b\b\b\b\b\b\b\b\b\b\b\b\b\b\b\b\b\b\b\b\b\b\b\b\b\b\b\b\n",
      "Epoch 7/40\n",
      "23/23 [==============================] - 0s 2ms/step - loss: 0.6292 - accuracy: 0.6770 - val_loss: 0.6233 - val_accuracy: 0.6938\b\b\b\b\b\b\b\b\b\b\b\b\b\b\b\b\b\b\b\b\b\b\b\b\b\b\b\b\b\b\b\b\b\b\b\b\n",
      "Epoch 8/40\n",
      "23/23 [==============================] - 0s 2ms/step - loss: 0.6236 - accuracy: 0.6952 - val_loss: 0.6177 - val_accuracy: 0.6882\b\b\b\b\b\b\b\b\b\b\b\b\b\b\b\b\b\b\b\b\b\b\b\b\b\b\b\b\b\b\b\b\b\b\b\b\n",
      "Epoch 9/40\n",
      "23/23 [==============================] - 0s 2ms/step - loss: 0.6185 - accuracy: 0.6826 - val_loss: 0.6143 - val_accuracy: 0.7022\b\b\b\b\b\b\b\b\b\b\b\b\b\b\b\b\b\b\b\b\b\b\b\b\b\b\b\b\b\b\b\b\b\b\b\b\n",
      "Epoch 10/40\n",
      "23/23 [==============================] - 0s 1ms/step - loss: 0.6144 - accuracy: 0.6980 - val_loss: 0.6102 - val_accuracy: 0.6980\b\b\b\b\b\b\b\b\b\b\b\b\b\b\b\b\b\b\b\b\b\b\b\b\b\b\b\b\b\b\b\b\b\b\b\b\n",
      "Epoch 11/40\n",
      "23/23 [==============================] - 0s 1ms/step - loss: 0.6100 - accuracy: 0.6910 - val_loss: 0.6068 - val_accuracy: 0.7051\b\b\b\b\b\b\b\b\b\b\b\b\b\b\b\b\b\b\b\b\b\b\b\b\b\b\b\b\b\b\b\b\b\b\b\b\n",
      "Epoch 12/40\n",
      "23/23 [==============================] - 0s 1ms/step - loss: 0.6064 - accuracy: 0.7065 - val_loss: 0.6029 - val_accuracy: 0.7037\b\b\b\b\b\b\b\b\b\b\b\b\b\b\b\b\b\b\b\b\b\b\b\b\b\b\b\b\b\b\b\b\b\b\b\b\n",
      "Epoch 13/40\n",
      "23/23 [==============================] - 0s 1ms/step - loss: 0.6035 - accuracy: 0.7079 - val_loss: 0.6001 - val_accuracy: 0.7107\b\b\b\b\b\b\b\b\b\b\b\b\b\b\b\b\b\b\b\b\b\b\b\b\b\b\b\b\b\b\b\b\b\b\b\b\n",
      "Epoch 14/40\n",
      "23/23 [==============================] - 0s 1ms/step - loss: 0.6044 - accuracy: 0.7065 - val_loss: 0.6010 - val_accuracy: 0.6868\b\b\b\b\b\b\b\b\b\b\b\b\b\b\b\b\b\b\b\b\b\b\b\b\b\b\b\b\b\b\b\b\b\b\b\b\n",
      "Epoch 15/40\n",
      "23/23 [==============================] - 0s 2ms/step - loss: 0.5991 - accuracy: 0.7037 - val_loss: 0.5923 - val_accuracy: 0.7135\b\b\b\b\b\b\b\b\b\b\b\b\b\b\b\b\b\b\b\b\b\b\b\b\b\b\b\b\b\b\b\b\b\b\b\b\n",
      "Epoch 16/40\n",
      "23/23 [==============================] - 0s 2ms/step - loss: 0.5941 - accuracy: 0.7177 - val_loss: 0.5923 - val_accuracy: 0.6966\b\b\b\b\b\b\b\b\b\b\b\b\b\b\b\b\b\b\b\b\b\b\b\b\b\b\b\b\b\b\b\b\b\b\b\b\n",
      "Epoch 17/40\n",
      "23/23 [==============================] - 0s 1ms/step - loss: 0.6022 - accuracy: 0.6854 - val_loss: 0.5861 - val_accuracy: 0.7149\b\b\b\b\b\b\b\b\b\b\b\b\b\b\b\b\b\b\b\b\b\b\b\b\b\b\b\b\b\b\b\b\b\b\b\b\n",
      "Epoch 18/40\n",
      "23/23 [==============================] - 0s 2ms/step - loss: 0.5854 - accuracy: 0.7149 - val_loss: 0.5835 - val_accuracy: 0.7121\b\b\b\b\b\b\b\b\b\b\b\b\b\b\b\b\b\b\b\b\b\b\b\b\b\b\b\b\b\b\b\b\b\b\b\b\n",
      "Epoch 19/40\n",
      "23/23 [==============================] - 0s 2ms/step - loss: 0.5835 - accuracy: 0.7135 - val_loss: 0.5826 - val_accuracy: 0.7149\b\b\b\b\b\b\b\b\b\b\b\b\b\b\b\b\b\b\b\b\b\b\b\b\b\b\b\b\b\b\b\b\b\b\b\b\n",
      "Epoch 20/40\n",
      "23/23 [==============================] - 0s 2ms/step - loss: 0.5818 - accuracy: 0.7135 - val_loss: 0.5792 - val_accuracy: 0.7121\b\b\b\b\b\b\b\b\b\b\b\b\b\b\b\b\b\b\b\b\b\b\b\b\b\b\b\b\b\b\b\b\b\b\b\b\n",
      "Epoch 21/40\n",
      "23/23 [==============================] - 0s 2ms/step - loss: 0.5825 - accuracy: 0.7135 - val_loss: 0.5733 - val_accuracy: 0.7191\b\b\b\b\b\b\b\b\b\b\b\b\b\b\b\b\b\b\b\b\b\b\b\b\b\b\b\b\b\b\b\b\b\b\b\b\n",
      "Epoch 22/40\n",
      "23/23 [==============================] - 0s 2ms/step - loss: 0.5773 - accuracy: 0.7135 - val_loss: 0.5714 - val_accuracy: 0.7219\b\b\b\b\b\b\b\b\b\b\b\b\b\b\b\b\b\b\b\b\b\b\b\b\b\b\b\b\b\b\b\b\b\b\b\b\n",
      "Epoch 23/40\n",
      "23/23 [==============================] - 0s 2ms/step - loss: 0.5721 - accuracy: 0.7191 - val_loss: 0.5683 - val_accuracy: 0.7219\b\b\b\b\b\b\b\b\b\b\b\b\b\b\b\b\b\b\b\b\b\b\b\b\b\b\b\b\b\b\b\b\b\b\b\b\n",
      "Epoch 24/40\n",
      "23/23 [==============================] - 0s 2ms/step - loss: 0.5706 - accuracy: 0.7219 - val_loss: 0.5667 - val_accuracy: 0.7219\b\b\b\b\b\b\b\b\b\b\b\b\b\b\b\b\b\b\b\b\b\b\b\b\b\b\b\b\b\b\b\b\b\b\b\b\n",
      "Epoch 25/40\n",
      "23/23 [==============================] - 0s 2ms/step - loss: 0.5675 - accuracy: 0.7219 - val_loss: 0.5629 - val_accuracy: 0.7247\b\b\b\b\b\b\b\b\b\b\b\b\b\b\b\b\b\b\b\b\b\b\b\b\b\b\b\b\b\b\b\b\b\b\b\b\n",
      "Epoch 26/40\n",
      "23/23 [==============================] - 0s 2ms/step - loss: 0.5676 - accuracy: 0.7219 - val_loss: 0.5606 - val_accuracy: 0.7275\b\b\b\b\b\b\b\b\b\b\b\b\b\b\b\b\b\b\b\b\b\b\b\b\b\b\b\b\b\b\b\b\b\b\b\b\n",
      "Epoch 27/40\n",
      "23/23 [==============================] - 0s 2ms/step - loss: 0.5604 - accuracy: 0.7247 - val_loss: 0.5571 - val_accuracy: 0.7233\b\b\b\b\b\b\b\b\b\b\b\b\b\b\b\b\b\b\b\b\b\b\b\b\b\b\b\b\b\b\b\b\b\b\b\b\n",
      "Epoch 28/40\n",
      "23/23 [==============================] - 0s 3ms/step - loss: 0.5585 - accuracy: 0.7247 - val_loss: 0.5544 - val_accuracy: 0.7303\b\b\b\b\b\b\b\b\b\b\b\b\b\b\b\b\b\b\b\b\b\b\b\b\b\b\b\b\b\b\b\b\b\b\b\b\n",
      "Epoch 29/40\n",
      "23/23 [==============================] - 0s 2ms/step - loss: 0.5555 - accuracy: 0.7261 - val_loss: 0.5536 - val_accuracy: 0.7261\b\b\b\b\b\b\b\b\b\b\b\b\b\b\b\b\b\b\b\b\b\b\b\b\b\b\b\b\b\b\b\b\b\b\b\b\n",
      "Epoch 30/40\n",
      "23/23 [==============================] - 0s 2ms/step - loss: 0.5624 - accuracy: 0.7205 - val_loss: 0.5492 - val_accuracy: 0.7331\b\b\b\b\b\b\b\b\b\b\b\b\b\b\b\b\b\b\b\b\b\b\b\b\b\b\b\b\b\b\b\b\b\b\b\b\n",
      "Epoch 31/40\n",
      "23/23 [==============================] - 0s 2ms/step - loss: 0.5508 - accuracy: 0.7275 - val_loss: 0.5461 - val_accuracy: 0.7289\b\b\b\b\b\b\b\b\b\b\b\b\b\b\b\b\b\b\b\b\b\b\b\b\b\b\b\b\b\b\b\b\b\b\b\b\n",
      "Epoch 32/40\n",
      "23/23 [==============================] - 0s 2ms/step - loss: 0.5474 - accuracy: 0.7374 - val_loss: 0.5439 - val_accuracy: 0.7317\b\b\b\b\b\b\b\b\b\b\b\b\b\b\b\b\b\b\b\b\b\b\b\b\b\b\b\b\b\b\b\b\b\b\b\b\n",
      "Epoch 33/40\n",
      "23/23 [==============================] - 0s 2ms/step - loss: 0.5439 - accuracy: 0.7331 - val_loss: 0.5401 - val_accuracy: 0.7374\b\b\b\b\b\b\b\b\b\b\b\b\b\b\b\b\b\b\b\b\b\b\b\b\b\b\b\b\b\b\b\b\b\b\b\b\n",
      "Epoch 34/40\n",
      "23/23 [==============================] - 0s 2ms/step - loss: 0.5408 - accuracy: 0.7430 - val_loss: 0.5364 - val_accuracy: 0.7430\b\b\b\b\b\b\b\b\b\b\b\b\b\b\b\b\b\b\b\b\b\b\b\b\b\b\b\b\b\b\b\b\b\b\b\b\n",
      "Epoch 35/40\n",
      "23/23 [==============================] - 0s 2ms/step - loss: 0.5449 - accuracy: 0.7430 - val_loss: 0.5369 - val_accuracy: 0.7416\b\b\b\b\b\b\b\b\b\b\b\b\b\b\b\b\b\b\b\b\b\b\b\b\b\b\b\b\b\b\b\b\b\b\b\b\n",
      "Epoch 36/40\n",
      "23/23 [==============================] - 0s 2ms/step - loss: 0.5412 - accuracy: 0.7514 - val_loss: 0.5334 - val_accuracy: 0.7388\b\b\b\b\b\b\b\b\b\b\b\b\b\b\b\b\b\b\b\b\b\b\b\b\b\b\b\b\b\b\b\b\b\b\b\b\n",
      "Epoch 37/40\n",
      "23/23 [==============================] - 0s 2ms/step - loss: 0.5334 - accuracy: 0.7458 - val_loss: 0.5267 - val_accuracy: 0.7416\b\b\b\b\b\b\b\b\b\b\b\b\b\b\b\b\b\b\b\b\b\b\b\b\b\b\b\b\b\b\b\b\b\b\b\b\n",
      "Epoch 38/40\n",
      "23/23 [==============================] - 0s 2ms/step - loss: 0.5259 - accuracy: 0.7430 - val_loss: 0.5191 - val_accuracy: 0.7500\b\b\b\b\b\b\b\b\b\b\b\b\b\b\b\b\b\b\b\b\b\b\b\b\b\b\b\b\b\b\b\b\b\b\b\b\n",
      "Epoch 39/40\n",
      "23/23 [==============================] - 0s 3ms/step - loss: 0.5207 - accuracy: 0.7570 - val_loss: 0.5192 - val_accuracy: 0.7570\b\b\b\b\b\b\b\b\b\b\b\b\b\b\b\b\b\b\b\b\b\b\b\b\b\b\b\b\b\b\b\b\b\b\b\b\n",
      "Epoch 40/40\n",
      "23/23 [==============================] - 0s 2ms/step - loss: 0.5210 - accuracy: 0.7486 - val_loss: 0.5100 - val_accuracy: 0.7612\b\b\b\b\b\b\b\b\b\b\b\b\b\b\b\b\b\b\b\b\b\b\b\b\b\b\b\b\b\b\b\b\b\b\b\b\n"
     ]
    },
    {
     "data": {
      "text/plain": "<tensorflow.python.keras.callbacks.History at 0x1f5cdbb4248>"
     },
     "execution_count": 8,
     "metadata": {},
     "output_type": "execute_result"
    }
   ],
   "source": [
    "reduce_lr_callback = tf.keras.callbacks.ReduceLROnPlateau(\n",
    "    monitor = 'val_loss', # 监控模型的损失\n",
    "    factor = 0.2,         # 触发时将学习率除以 5\n",
    "    patience = 10)        # 如果验证损失在 10 轮内都没有改善，那么就触发这个回调函数\n",
    "\n",
    "model.fit(train_df.values,\n",
    "          train_labels.values,\n",
    "          validation_data=(train_df.values, train_labels.values),\n",
    "          epochs=40,\n",
    "          callbacks=[reduce_lr_callback])"
   ]
  },
  {
   "cell_type": "markdown",
   "metadata": {},
   "source": [
    "### 6.4.3 自定义回调函数"
   ]
  },
  {
   "cell_type": "code",
   "execution_count": 9,
   "metadata": {},
   "outputs": [
    {
     "name": "stdout",
     "output_type": "stream",
     "text": [
      "Epoch 1/10\n",
      "23/23 [==============================] - 0s 1ms/step - loss: 0.5092 - accuracy: 0.7570\b\b\b\b\b\b\b\b\b\b\b\b\b\b\b\b\b\b\b\b\b\b\b\b\b\b\b\b\b\b\b\b\b\b\b\b\b\b\b\b\b\b\b\b\b\b\b\b\b\b\b\b\b\b\b\b\b\b\b\b\b\b\b\b\b\b\b\b\b\b\b\b\b\b\b\b\b\b\n",
      "Epoch 2/10\n",
      "23/23 [==============================] - 0s 1ms/step - loss: 0.5099 - accuracy: 0.7654\b\b\b\b\b\b\b\b\b\b\b\b\b\b\b\b\b\b\b\b\b\b\b\b\b\b\b\b\b\b\b\b\b\b\b\b\b\b\b\b\b\b\b\b\b\b\b\b\b\b\b\b\b\b\b\b\b\b\b\b\b\b\b\b\b\b\b\b\b\b\b\b\b\b\b\b\b\b\n",
      "Epoch 3/10\n",
      "23/23 [==============================] - 0s 1ms/step - loss: 0.5053 - accuracy: 0.7612\b\b\b\b\b\b\b\b\b\b\b\b\b\b\b\b\b\b\b\b\b\b\b\b\b\b\b\b\b\b\b\b\b\b\b\b\b\b\b\b\b\b\b\b\b\b\b\b\b\b\b\b\b\b\b\b\b\b\b\b\b\b\b\b\b\b\b\b\b\b\b\b\b\b\b\b\b\b\n",
      "Epoch 4/10\n",
      "23/23 [==============================] - 0s 1ms/step - loss: 0.5083 - accuracy: 0.7598\b\b\b\b\b\b\b\b\b\b\b\b\b\b\b\b\b\b\b\b\b\b\b\b\b\b\b\b\b\b\b\b\b\b\b\b\b\b\b\b\b\b\b\b\b\b\b\b\b\b\b\b\b\b\b\b\b\b\b\b\b\b\b\b\b\b\b\b\b\b\b\b\b\b\b\b\b\b\n",
      "Epoch 5/10\n",
      "23/23 [==============================] - 0s 1ms/step - loss: 0.4964 - accuracy: 0.7711\b\b\b\b\b\b\b\b\b\b\b\b\b\b\b\b\b\b\b\b\b\b\b\b\b\b\b\b\b\b\b\b\b\b\b\b\b\b\b\b\b\b\b\b\b\b\b\b\b\b\b\b\b\b\b\b\b\b\b\b\b\b\b\b\b\b\b\b\b\b\b\b\b\b\b\b\b\b\n",
      "Epoch 6/10\n",
      "23/23 [==============================] - 0s 1ms/step - loss: 0.4944 - accuracy: 0.7739\b\b\b\b\b\b\b\b\b\b\b\b\b\b\b\b\b\b\b\b\b\b\b\b\b\b\b\b\b\b\b\b\b\b\b\b\b\b\b\b\b\b\b\b\b\b\b\b\b\b\b\b\b\b\b\b\b\b\b\b\b\b\b\b\b\b\b\b\b\b\b\b\b\b\b\b\b\b\n",
      "Epoch 7/10\n",
      "23/23 [==============================] - 0s 1ms/step - loss: 0.4902 - accuracy: 0.7865\b\b\b\b\b\b\b\b\b\b\b\b\b\b\b\b\b\b\b\b\b\b\b\b\b\b\b\b\b\b\b\b\b\b\b\b\b\b\b\b\b\b\b\b\b\b\b\b\b\b\b\b\b\b\b\b\b\b\b\b\b\b\b\b\b\b\b\b\b\b\b\b\b\b\b\b\b\b\n",
      "Epoch 8/10\n",
      "23/23 [==============================] - 0s 2ms/step - loss: 0.4881 - accuracy: 0.7781\b\b\b\b\b\b\b\b\b\b\b\b\b\b\b\b\b\b\b\b\b\b\b\b\b\b\b\b\b\b\b\b\b\b\b\b\b\b\b\b\b\b\b\b\b\b\b\b\b\b\b\b\b\b\b\b\b\b\b\b\b\b\b\b\b\b\b\b\b\b\b\b\b\b\b\b\b\b\n",
      "Epoch 9/10\n",
      "23/23 [==============================] - 0s 1ms/step - loss: 0.4870 - accuracy: 0.7795\b\b\b\b\b\b\b\b\b\b\b\b\b\b\b\b\b\b\b\b\b\b\b\b\b\b\b\b\b\b\b\b\b\b\b\b\b\b\b\b\b\b\b\b\b\b\b\b\b\b\b\b\b\b\b\b\b\b\b\b\b\b\b\b\b\b\b\b\b\b\b\b\b\b\b\b\b\b\n",
      "Epoch 10/10\n",
      "23/23 [==============================] - 0s 1ms/step - loss: 0.4841 - accuracy: 0.7809\b\b\b\b\b\b\b\b\b\b\b\b\b\b\b\b\b\b\b\b\b\b\b\b\b\b\b\b\b\b\b\b\b\b\b\b\b\b\b\b\b\b\b\b\b\b\b\b\b\b\b\b\b\b\b\b\b\b\b\b\b\b\b\b\b\b\b\b\b\b\b\b\b\b\b\b\b\b\n"
     ]
    },
    {
     "data": {
      "text/plain": "<tensorflow.python.keras.callbacks.History at 0x1f5ccb00ac8>"
     },
     "execution_count": 9,
     "metadata": {},
     "output_type": "execute_result"
    }
   ],
   "source": [
    "class LossHistory(keras.callbacks.Callback):\n",
    "    def on_train_begin(self, logs={}):\n",
    "        # 训练开始时定义一个数组来保存数据\n",
    "        self.losses = []\n",
    "\n",
    "    def on_batch_end(self, batch, logs={}):\n",
    "        # 把每一轮 batch 的 loss 记录到数组中\n",
    "        self.losses.append(logs.get('loss'))\n",
    "\n",
    "\n",
    "loss_history_callback = LossHistory()\n",
    "\n",
    "model.fit(train_df,\n",
    "          train_labels,\n",
    "          epochs=10,\n",
    "          callbacks=[loss_history_callback])"
   ]
  },
  {
   "cell_type": "code",
   "execution_count": 10,
   "metadata": {},
   "outputs": [
    {
     "data": {
      "text/plain": "<Figure size 1080x720 with 1 Axes>",
      "image/png": "[encoded data removed]"
     },
     "metadata": {
      "needs_background": "light"
     },
     "output_type": "display_data"
    }
   ],
   "source": [
    "import matplotlib.pyplot as plt\n",
    "import numpy as np\n",
    "\n",
    "# 设置 plt 的分辨率，默认分辨率比较低，导致图标不清晰\n",
    "plt.rcParams['figure.dpi'] = 180\n",
    "\n",
    "plt.figure()\n",
    "# 只传入一个参数的话, 默认为 y 轴, x 轴默认为 range(n)\n",
    "plt.plot(loss_history_callback.losses)\n",
    "plt.show()"
   ]
  },
  {
   "cell_type": "markdown",
   "metadata": {},
   "source": [
    "## 6.5 Tensorboard 可视化"
   ]
  },
  {
   "cell_type": "code",
   "execution_count": 11,
   "metadata": {},
   "outputs": [
    {
     "name": "stdout",
     "output_type": "stream",
     "text": [
      "Epoch 1/20\n",
      " 1/23 [>.............................] - ETA: 0s - loss: 0.5675 - accuracy: 0.7188WARNING:tensorflow:From D:\\0ilraypan\\python_work\\env\\tensorflow2.0\\lib\\site-packages\\tensorflow\\python\\ops\\summary_ops_v2.py:1277: stop (from tensorflow.python.eager.profiler) is deprecated and will be removed after 2020-07-01.\n",
      "Instructions for updating:\n",
      "use `tf.profiler.experimental.stop` instead.\n",
      "WARNING:tensorflow:Callbacks method `on_train_batch_end` is slow compared to the batch time (batch time: 0.0030s vs `on_train_batch_end` time: 0.0385s). Check your callbacks.\n",
      "23/23 [==============================] - 0s 3ms/step - loss: 0.4799 - accuracy: 0.7865\b\b\b\b\b\b\b\b\b\b\b\b\b\b\b\b\b\b\b\b\b\b\b\b\b\b\b\b\b\b\b\b\b\b\b\b\b\b\b\b\b\b\b\b\b\b\b\b\b\b\b\b\b\b\b\b\b\b\b\b\b\b\b\b\b\b\b\b\b\b\b\b\b\b\b\b\b\b\n",
      "Epoch 2/20\n",
      "23/23 [==============================] - 0s 1ms/step - loss: 0.4763 - accuracy: 0.7823\b\b\b\b\b\b\b\b\b\b\b\b\b\b\b\b\b\b\b\b\b\b\b\b\b\b\b\b\b\b\b\b\b\b\b\b\b\b\b\b\b\b\b\b\b\b\b\b\b\b\b\b\b\b\b\b\b\b\b\b\b\b\b\b\b\b\b\b\b\b\b\b\b\b\b\b\b\b\n",
      "Epoch 3/20\n",
      "23/23 [==============================] - 0s 1ms/step - loss: 0.4720 - accuracy: 0.8188\b\b\b\b\b\b\b\b\b\b\b\b\b\b\b\b\b\b\b\b\b\b\b\b\b\b\b\b\b\b\b\b\b\b\b\b\b\b\b\b\b\b\b\b\b\b\b\b\b\b\b\b\b\b\b\b\b\b\b\b\b\b\b\b\b\b\b\b\b\b\b\b\b\b\b\b\b\b\n",
      "Epoch 4/20\n",
      "23/23 [==============================] - 0s 1ms/step - loss: 0.4860 - accuracy: 0.7753\b\b\b\b\b\b\b\b\b\b\b\b\b\b\b\b\b\b\b\b\b\b\b\b\b\b\b\b\b\b\b\b\b\b\b\b\b\b\b\b\b\b\b\b\b\b\b\b\b\b\b\b\b\b\b\b\b\b\b\b\b\b\b\b\b\b\b\b\b\b\b\b\b\b\b\b\b\b\n",
      "Epoch 5/20\n",
      "23/23 [==============================] - 0s 1ms/step - loss: 0.4694 - accuracy: 0.7879\b\b\b\b\b\b\b\b\b\b\b\b\b\b\b\b\b\b\b\b\b\b\b\b\b\b\b\b\b\b\b\b\b\b\b\b\b\b\b\b\b\b\b\b\b\b\b\b\b\b\b\b\b\b\b\b\b\b\b\b\b\b\b\b\b\b\b\b\b\b\b\b\b\b\b\b\b\b\n",
      "Epoch 6/20\n",
      "23/23 [==============================] - 0s 1ms/step - loss: 0.4667 - accuracy: 0.7935\b\b\b\b\b\b\b\b\b\b\b\b\b\b\b\b\b\b\b\b\b\b\b\b\b\b\b\b\b\b\b\b\b\b\b\b\b\b\b\b\b\b\b\b\b\b\b\b\b\b\b\b\b\b\b\b\b\b\b\b\b\b\b\b\b\b\b\b\b\b\b\b\b\b\b\b\b\b\n",
      "Epoch 7/20\n",
      "23/23 [==============================] - 0s 1ms/step - loss: 0.4698 - accuracy: 0.7978\b\b\b\b\b\b\b\b\b\b\b\b\b\b\b\b\b\b\b\b\b\b\b\b\b\b\b\b\b\b\b\b\b\b\b\b\b\b\b\b\b\b\b\b\b\b\b\b\b\b\b\b\b\b\b\b\b\b\b\b\b\b\b\b\b\b\b\b\b\b\b\b\b\b\b\b\b\b\n",
      "Epoch 8/20\n",
      "23/23 [==============================] - 0s 1ms/step - loss: 0.4643 - accuracy: 0.7963\b\b\b\b\b\b\b\b\b\b\b\b\b\b\b\b\b\b\b\b\b\b\b\b\b\b\b\b\b\b\b\b\b\b\b\b\b\b\b\b\b\b\b\b\b\b\b\b\b\b\b\b\b\b\b\b\b\b\b\b\b\b\b\b\b\b\b\b\b\b\b\b\b\b\b\b\b\b\n",
      "Epoch 9/20\n",
      "23/23 [==============================] - 0s 2ms/step - loss: 0.4642 - accuracy: 0.7978\b\b\b\b\b\b\b\b\b\b\b\b\b\b\b\b\b\b\b\b\b\b\b\b\b\b\b\b\b\b\b\b\b\b\b\b\b\b\b\b\b\b\b\b\b\b\b\b\b\b\b\b\b\b\b\b\b\b\b\b\b\b\b\b\b\b\b\b\b\b\b\b\b\b\b\b\b\b\n",
      "Epoch 10/20\n",
      "23/23 [==============================] - 0s 1ms/step - loss: 0.4703 - accuracy: 0.7865\b\b\b\b\b\b\b\b\b\b\b\b\b\b\b\b\b\b\b\b\b\b\b\b\b\b\b\b\b\b\b\b\b\b\b\b\b\b\b\b\b\b\b\b\b\b\b\b\b\b\b\b\b\b\b\b\b\b\b\b\b\b\b\b\b\b\b\b\b\b\b\b\b\b\b\b\b\b\n",
      "Epoch 11/20\n",
      "23/23 [==============================] - 0s 2ms/step - loss: 0.4636 - accuracy: 0.7893\b\b\b\b\b\b\b\b\b\b\b\b\b\b\b\b\b\b\b\b\b\b\b\b\b\b\b\b\b\b\b\b\b\b\b\b\b\b\b\b\b\b\b\b\b\b\b\b\b\b\b\b\b\b\b\b\b\b\b\b\b\b\b\b\b\b\b\b\b\b\b\b\b\b\b\b\b\b\n",
      "Epoch 12/20\n",
      "23/23 [==============================] - 0s 1ms/step - loss: 0.4609 - accuracy: 0.7907\b\b\b\b\b\b\b\b\b\b\b\b\b\b\b\b\b\b\b\b\b\b\b\b\b\b\b\b\b\b\b\b\b\b\b\b\b\b\b\b\b\b\b\b\b\b\b\b\b\b\b\b\b\b\b\b\b\b\b\b\b\b\b\b\b\b\b\b\b\b\b\b\b\b\b\b\b\b\n",
      "Epoch 13/20\n",
      "23/23 [==============================] - 0s 2ms/step - loss: 0.4635 - accuracy: 0.7809\b\b\b\b\b\b\b\b\b\b\b\b\b\b\b\b\b\b\b\b\b\b\b\b\b\b\b\b\b\b\b\b\b\b\b\b\b\b\b\b\b\b\b\b\b\b\b\b\b\b\b\b\b\b\b\b\b\b\b\b\b\b\b\b\b\b\b\b\b\b\b\b\b\b\b\b\b\b\n",
      "Epoch 14/20\n",
      "23/23 [==============================] - 0s 1ms/step - loss: 0.4574 - accuracy: 0.7992\b\b\b\b\b\b\b\b\b\b\b\b\b\b\b\b\b\b\b\b\b\b\b\b\b\b\b\b\b\b\b\b\b\b\b\b\b\b\b\b\b\b\b\b\b\b\b\b\b\b\b\b\b\b\b\b\b\b\b\b\b\b\b\b\b\b\b\b\b\b\b\b\b\b\b\b\b\b\n",
      "Epoch 15/20\n",
      "23/23 [==============================] - 0s 1ms/step - loss: 0.4548 - accuracy: 0.7949\b\b\b\b\b\b\b\b\b\b\b\b\b\b\b\b\b\b\b\b\b\b\b\b\b\b\b\b\b\b\b\b\b\b\b\b\b\b\b\b\b\b\b\b\b\b\b\b\b\b\b\b\b\b\b\b\b\b\b\b\b\b\b\b\b\b\b\b\b\b\b\b\b\b\b\b\b\b\n",
      "Epoch 16/20\n",
      "23/23 [==============================] - 0s 2ms/step - loss: 0.4544 - accuracy: 0.7893\b\b\b\b\b\b\b\b\b\b\b\b\b\b\b\b\b\b\b\b\b\b\b\b\b\b\b\b\b\b\b\b\b\b\b\b\b\b\b\b\b\b\b\b\b\b\b\b\b\b\b\b\b\b\b\b\b\b\b\b\b\b\b\b\b\b\b\b\b\b\b\b\b\b\b\b\b\b\n",
      "Epoch 17/20\n",
      "23/23 [==============================] - 0s 1ms/step - loss: 0.4526 - accuracy: 0.7893\b\b\b\b\b\b\b\b\b\b\b\b\b\b\b\b\b\b\b\b\b\b\b\b\b\b\b\b\b\b\b\b\b\b\b\b\b\b\b\b\b\b\b\b\b\b\b\b\b\b\b\b\b\b\b\b\b\b\b\b\b\b\b\b\b\b\b\b\b\b\b\b\b\b\b\b\b\b\n",
      "Epoch 18/20\n",
      "23/23 [==============================] - 0s 1ms/step - loss: 0.4558 - accuracy: 0.7907\b\b\b\b\b\b\b\b\b\b\b\b\b\b\b\b\b\b\b\b\b\b\b\b\b\b\b\b\b\b\b\b\b\b\b\b\b\b\b\b\b\b\b\b\b\b\b\b\b\b\b\b\b\b\b\b\b\b\b\b\b\b\b\b\b\b\b\b\b\b\b\b\b\b\b\b\b\b\n",
      "Epoch 19/20\n",
      "23/23 [==============================] - 0s 1ms/step - loss: 0.4585 - accuracy: 0.8020\b\b\b\b\b\b\b\b\b\b\b\b\b\b\b\b\b\b\b\b\b\b\b\b\b\b\b\b\b\b\b\b\b\b\b\b\b\b\b\b\b\b\b\b\b\b\b\b\b\b\b\b\b\b\b\b\b\b\b\b\b\b\b\b\b\b\b\b\b\b\b\b\b\b\b\b\b\b\n",
      "Epoch 20/20\n",
      "23/23 [==============================] - 0s 1ms/step - loss: 0.4511 - accuracy: 0.7978\b\b\b\b\b\b\b\b\b\b\b\b\b\b\b\b\b\b\b\b\b\b\b\b\b\b\b\b\b\b\b\b\b\b\b\b\b\b\b\b\b\b\b\b\b\b\b\b\b\b\b\b\b\b\b\b\b\b\b\b\b\b\b\b\b\b\b\b\b\b\b\b\b\b\b\b\b\b\n"
     ]
    },
    {
     "data": {
      "text/plain": "<tensorflow.python.keras.callbacks.History at 0x1f5ce626d48>"
     },
     "execution_count": 11,
     "metadata": {},
     "output_type": "execute_result"
    }
   ],
   "source": [
    "tensorboard = keras.callbacks.TensorBoard(\n",
    "    log_dir='outputs/chapter6/tf_board_log', # 日志输出目录\n",
    "    histogram_freq=2) # 对于模型中各个层计算激活值和模型权重直方图的频率\n",
    "\n",
    "model.fit(train_df,\n",
    "          train_labels,\n",
    "          epochs=20,\n",
    "          callbacks=[tensorboard])"
   ]
  },
  {
   "cell_type": "code",
   "execution_count": 12,
   "metadata": {},
   "outputs": [
    {
     "name": "stdout",
     "output_type": "stream",
     "text": [
      "2021-10-27 20:59:53\n"
     ]
    }
   ],
   "source": [
    "import datetime\n",
    "print(datetime.datetime.now().strftime('%Y-%m-%d %H:%M:%S'))"
   ]
  },
  {
   "cell_type": "code",
   "execution_count": 12,
   "outputs": [],
   "source": [],
   "metadata": {
    "collapsed": false,
    "pycharm": {
     "name": "#%%"
    }
   }
  }
 ],
 "metadata": {
  "kernelspec": {
   "name": "pycharm-34929637",
   "language": "python",
   "display_name": "PyCharm (Tensorflow 2.0实战)"
  },
  "language_info": {
   "codemirror_mode": {
    "name": "ipython",
    "version": 3
   },
   "file_extension": ".py",
   "mimetype": "text/x-python",
   "name": "python",
   "nbconvert_exporter": "python",
   "pygments_lexer": "ipython3",
   "version": "3.6.9"
  }
 },
 "nbformat": 4,
 "nbformat_minor": 4
}