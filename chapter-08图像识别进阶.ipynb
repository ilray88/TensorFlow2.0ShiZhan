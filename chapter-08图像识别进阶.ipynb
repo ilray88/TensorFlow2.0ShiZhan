{
 "cells": [
  {
   "cell_type": "markdown",
   "metadata": {
    "colab_type": "text",
    "id": "eVFy6YQS5AEO",
    "pycharm": {
     "name": "#%% md\n"
    }
   },
   "source": [
    "# 第 8 章 图像识别进阶"
   ]
  },
  {
   "cell_type": "code",
   "execution_count": 1,
   "metadata": {
    "colab": {
     "base_uri": "https://localhost:8080/",
     "height": 119
    },
    "colab_type": "code",
    "id": "P1pOoapvTNIZ",
    "outputId": "ba03858d-71a3-463e-bc39-19af8233286c"
   },
   "outputs": [
    {
     "name": "stdout",
     "output_type": "stream",
     "text": [
      "2.3.0\n"
     ]
    }
   ],
   "source": [
    "import tensorflow as tf\n",
    "print(tf.__version__)"
   ]
  },
  {
   "cell_type": "code",
   "execution_count": 2,
   "metadata": {
    "colab": {},
    "colab_type": "code",
    "id": "eJPB4_yYTQt1"
   },
   "outputs": [
    {
     "name": "stderr",
     "output_type": "stream",
     "text": [
      "'wget' 不是内部或外部命令，也不是可运行的程序\n",
      "或批处理文件。\n",
      "tar: Error opening archive: Failed to open 'flower_photos.tgz'\n",
      "子目录或文件 data 已经存在。\n"
     ]
    },
    {
     "name": "stdout",
     "output_type": "stream",
     "text": [
      "Looking in indexes: https://pypi.tuna.tsinghua.edu.cn/simple/\n",
      "Requirement already satisfied: pillow in d:\\0ilraypan\\python_work\\env\\tensorflow2.0\\lib\\site-packages (8.4.0)\n"
     ]
    }
   ],
   "source": [
    "# 下载数据集 & 安装依赖\n",
    "# !wget https://storage.googleapis.com/download.tensorflow.org/example_images/flower_photos.tgz\n",
    "# !tar -xvf flower_photos.tgz \n",
    "# !mkdir data && mv flower_photos data/flower_photos\n",
    "# !pip install pillow"
   ]
  },
  {
   "cell_type": "markdown",
   "metadata": {
    "colab_type": "text",
    "id": "6qbfiYM05I9F"
   },
   "source": [
    "## 8.1 数据集处理"
   ]
  },
  {
   "cell_type": "markdown",
   "metadata": {
    "colab_type": "text",
    "id": "5Yj-K4fy5KeJ"
   },
   "source": [
    "### 8.1.1 准备数据集"
   ]
  },
  {
   "cell_type": "code",
   "execution_count": 3,
   "metadata": {
    "colab": {
     "base_uri": "https://localhost:8080/",
     "height": 119
    },
    "colab_type": "code",
    "id": "Dhnm3-zD5AES",
    "outputId": "be746ea0-fa58-4046-e5b1-83e1bdf2010b",
    "pycharm": {
     "name": "#%%\n"
    }
   },
   "outputs": [
    {
     "ename": "FileNotFoundError",
     "evalue": "[WinError 3] 系统找不到指定的路径。: 'data\\\\flower_photos'",
     "output_type": "error",
     "traceback": [
      "\u001B[1;31m---------------------------------------------------------------------------\u001B[0m",
      "\u001B[1;31mFileNotFoundError\u001B[0m                         Traceback (most recent call last)",
      "\u001B[1;32mC:\\Users\\ADMINI~1\\AppData\\Local\\Temp/ipykernel_14196/3826999654.py\u001B[0m in \u001B[0;36m<module>\u001B[1;34m\u001B[0m\n\u001B[0;32m      6\u001B[0m \u001B[1;33m\u001B[0m\u001B[0m\n\u001B[0;32m      7\u001B[0m \u001B[0mdata_root\u001B[0m \u001B[1;33m=\u001B[0m \u001B[0mpathlib\u001B[0m\u001B[1;33m.\u001B[0m\u001B[0mPath\u001B[0m\u001B[1;33m(\u001B[0m\u001B[1;34m'data/flower_photos/'\u001B[0m\u001B[1;33m)\u001B[0m\u001B[1;33m\u001B[0m\u001B[1;33m\u001B[0m\u001B[0m\n\u001B[1;32m----> 8\u001B[1;33m \u001B[1;32mfor\u001B[0m \u001B[0mitem\u001B[0m \u001B[1;32min\u001B[0m \u001B[0mdata_root\u001B[0m\u001B[1;33m.\u001B[0m\u001B[0miterdir\u001B[0m\u001B[1;33m(\u001B[0m\u001B[1;33m)\u001B[0m\u001B[1;33m:\u001B[0m\u001B[1;33m\u001B[0m\u001B[1;33m\u001B[0m\u001B[0m\n\u001B[0m\u001B[0;32m      9\u001B[0m     \u001B[0mprint\u001B[0m\u001B[1;33m(\u001B[0m\u001B[0mitem\u001B[0m\u001B[1;33m)\u001B[0m\u001B[1;33m\u001B[0m\u001B[1;33m\u001B[0m\u001B[0m\n\u001B[0;32m     10\u001B[0m \u001B[1;33m\u001B[0m\u001B[0m\n",
      "\u001B[1;32mD:\\0ilraypan\\python_work\\env\\tensorflow2.0\\lib\\pathlib.py\u001B[0m in \u001B[0;36miterdir\u001B[1;34m(self)\u001B[0m\n\u001B[0;32m   1105\u001B[0m         \u001B[1;32mif\u001B[0m \u001B[0mself\u001B[0m\u001B[1;33m.\u001B[0m\u001B[0m_closed\u001B[0m\u001B[1;33m:\u001B[0m\u001B[1;33m\u001B[0m\u001B[1;33m\u001B[0m\u001B[0m\n\u001B[0;32m   1106\u001B[0m             \u001B[0mself\u001B[0m\u001B[1;33m.\u001B[0m\u001B[0m_raise_closed\u001B[0m\u001B[1;33m(\u001B[0m\u001B[1;33m)\u001B[0m\u001B[1;33m\u001B[0m\u001B[1;33m\u001B[0m\u001B[0m\n\u001B[1;32m-> 1107\u001B[1;33m         \u001B[1;32mfor\u001B[0m \u001B[0mname\u001B[0m \u001B[1;32min\u001B[0m \u001B[0mself\u001B[0m\u001B[1;33m.\u001B[0m\u001B[0m_accessor\u001B[0m\u001B[1;33m.\u001B[0m\u001B[0mlistdir\u001B[0m\u001B[1;33m(\u001B[0m\u001B[0mself\u001B[0m\u001B[1;33m)\u001B[0m\u001B[1;33m:\u001B[0m\u001B[1;33m\u001B[0m\u001B[1;33m\u001B[0m\u001B[0m\n\u001B[0m\u001B[0;32m   1108\u001B[0m             \u001B[1;32mif\u001B[0m \u001B[0mname\u001B[0m \u001B[1;32min\u001B[0m \u001B[1;33m{\u001B[0m\u001B[1;34m'.'\u001B[0m\u001B[1;33m,\u001B[0m \u001B[1;34m'..'\u001B[0m\u001B[1;33m}\u001B[0m\u001B[1;33m:\u001B[0m\u001B[1;33m\u001B[0m\u001B[1;33m\u001B[0m\u001B[0m\n\u001B[0;32m   1109\u001B[0m                 \u001B[1;31m# Yielding a path object for these makes little sense\u001B[0m\u001B[1;33m\u001B[0m\u001B[1;33m\u001B[0m\u001B[1;33m\u001B[0m\u001B[0m\n",
      "\u001B[1;31mFileNotFoundError\u001B[0m: [WinError 3] 系统找不到指定的路径。: 'data\\\\flower_photos'"
     ]
    }
   ],
   "source": [
    "import os, shutil\n",
    "import pathlib\n",
    "import random\n",
    "import IPython.display as display\n",
    "from sklearn.model_selection import train_test_split\n",
    "\n",
    "data_root = pathlib.Path('data/flower_photos/')\n",
    "for item in data_root.iterdir():\n",
    "    print(item)"
   ]
  },
  {
   "cell_type": "code",
   "execution_count": null,
   "metadata": {
    "colab": {
     "base_uri": "https://localhost:8080/",
     "height": 34
    },
    "colab_type": "code",
    "collapsed": false,
    "id": "-0pDEoVh5AEU",
    "jupyter": {
     "outputs_hidden": false
    },
    "outputId": "aa688afb-cc0f-436a-d28f-6312e65782c6",
    "pycharm": {
     "name": "#%%\n"
    }
   },
   "outputs": [],
   "source": [
    "all_image_paths = list(data_root.glob('*/*'))\n",
    "all_image_paths = [str(path) for path in all_image_paths]\n",
    "\n",
    "# 打乱数据顺序\n",
    "random.shuffle(all_image_paths)\n",
    "\n",
    "print(len(all_image_paths))  # 3670\n",
    "all_image_paths[:5]\n",
    "\n",
    "# all_image_paths 是包含所有图像文件路径的数组\n",
    "# ['data/flower_photos/roses/5061135742_2870a7b691_n.jpg',\n",
    "#  'data/flower_photos/dandelion/5613466853_e476bb080e.jpg',\n",
    "#  'data/flower_photos/tulips/14053292975_fdc1093571_n.jpg',\n",
    "#  'data/flower_photos/dandelion/2634666217_d5ef87c9f7_m.jpg',\n",
    "#  'data/flower_photos/dandelion/5598591979_ed9af1b3e9_n.jpg']\n",
    "\n",
    "# 从图像路径解析出类别名\n",
    "all_image_labels = [pathlib.Path(path).parent.name for path in all_image_paths]"
   ]
  },
  {
   "cell_type": "code",
   "execution_count": null,
   "metadata": {
    "colab": {
     "base_uri": "https://localhost:8080/",
     "height": 710
    },
    "colab_type": "code",
    "collapsed": false,
    "id": "hEudypLw5AEW",
    "jupyter": {
     "outputs_hidden": false
    },
    "outputId": "3871dec4-5be2-41d5-aca1-9313d21e97f5",
    "pycharm": {
     "name": "#%%\n"
    }
   },
   "outputs": [],
   "source": [
    "for n in range(3):\n",
    "    image_path = random.choice(all_image_paths)\n",
    "    display.display(display.Image(image_path))"
   ]
  },
  {
   "cell_type": "code",
   "execution_count": null,
   "metadata": {
    "colab": {},
    "colab_type": "code",
    "collapsed": false,
    "id": "l2NSGX265AEX",
    "jupyter": {
     "outputs_hidden": false
    },
    "pycharm": {
     "name": "#%%\n"
    }
   },
   "outputs": [],
   "source": [
    "# 使用 train_test_split 方法拆分数据集\n",
    "train_x, valid_x, train_y, valid_y = train_test_split(all_image_paths,\n",
    "                                                      all_image_labels,\n",
    "                                                      train_size = 0.8,\n",
    "                                                      random_state = 104)\n",
    "\n",
    "def crate_sub_dataset(images, labels, dataset_path):\n",
    "    for index, image_path in enumerate(images):\n",
    "        image_label = labels[index]\n",
    "\n",
    "        # 创建标签数据集目录\n",
    "        target_dir = os.path.join(dataset_path, image_label)\n",
    "        pathlib.Path(target_dir).mkdir(parents=True, exist_ok=True)\n",
    "\n",
    "        # 复制图像文件到目标文件夹\n",
    "        target_path = os.path.join(target_dir, pathlib.Path(image_path).name)\n",
    "        shutil.copyfile(image_path, target_path)\n",
    "    return dataset_path\n",
    "\n",
    "# 删除已存在文件\n",
    "shutil.rmtree('data/flower-set/train', ignore_errors=True)\n",
    "shutil.rmtree('data/flower-set/valid', ignore_errors=True)\n",
    "\n",
    "train_dataset_path = crate_sub_dataset(train_x, train_y, 'data/flower-set/train')\n",
    "valid_dataset_path = crate_sub_dataset(valid_x, valid_y, 'data/flower-set/valid')"
   ]
  },
  {
   "cell_type": "markdown",
   "metadata": {
    "colab_type": "text",
    "id": "WmwseJRn5AEZ",
    "pycharm": {
     "name": "#%% md\n"
    }
   },
   "source": [
    "### 8.1.2 数据集预处理"
   ]
  },
  {
   "cell_type": "code",
   "execution_count": null,
   "metadata": {
    "colab": {
     "base_uri": "https://localhost:8080/",
     "height": 51
    },
    "colab_type": "code",
    "collapsed": false,
    "id": "vag3UR5_5AEZ",
    "jupyter": {
     "outputs_hidden": false
    },
    "outputId": "03fb2909-bd51-475f-fd86-640e66925a59",
    "pycharm": {
     "name": "#%%\n"
    }
   },
   "outputs": [],
   "source": [
    "from tensorflow.keras.preprocessing.image import ImageDataGenerator\n",
    "\n",
    "# 创建两个生成器，rescale 属性表示将图像张量乘以 1/255 归一化\n",
    "train_datagen = ImageDataGenerator(rescale=1./255)\n",
    "valid_datagen = ImageDataGenerator(rescale=1./255)\n",
    "\n",
    "# 使用生成器，读取目录中图像\n",
    "train_generator = train_datagen.flow_from_directory(\n",
    "    directory=train_dataset_path, # 数据读取目录\n",
    "    target_size=(192, 192),    # 张量尺寸，所有图像将缩减至整个尺寸\n",
    "    batch_size=100)            # 批次大小\n",
    "\n",
    "valid_generator = valid_datagen.flow_from_directory(\n",
    "    directory=valid_dataset_path,\n",
    "    target_size=(192, 192),\n",
    "    batch_size=100)"
   ]
  },
  {
   "cell_type": "code",
   "execution_count": null,
   "metadata": {
    "colab": {
     "base_uri": "https://localhost:8080/",
     "height": 51
    },
    "colab_type": "code",
    "collapsed": false,
    "id": "dyCxGazM5AEb",
    "jupyter": {
     "outputs_hidden": false
    },
    "outputId": "606938e7-3460-43ae-d6f8-360d429b2830",
    "pycharm": {
     "name": "#%%\n"
    }
   },
   "outputs": [],
   "source": [
    "for data_batch, label_batch in train_generator:\n",
    "    print(f\"data_batch shape: {data_batch.shape}\")\n",
    "    print(f\"label_batch shape: {label_batch.shape}\")\n",
    "    break\n",
    "# data_batch shape: (100, 192, 192, 3)\n",
    "# label_batch shape: (100, 5)"
   ]
  },
  {
   "cell_type": "markdown",
   "metadata": {
    "colab_type": "text",
    "id": "PoP-bbvh5AEd",
    "pycharm": {
     "name": "#%% md\n"
    }
   },
   "source": [
    "    \n",
    "### 8.1.3 简单卷积神经网络"
   ]
  },
  {
   "cell_type": "code",
   "execution_count": null,
   "metadata": {
    "colab": {
     "base_uri": "https://localhost:8080/",
     "height": 731
    },
    "colab_type": "code",
    "collapsed": false,
    "id": "E6Y2YUi05AEd",
    "jupyter": {
     "outputs_hidden": false
    },
    "outputId": "4c519ad3-0272-461a-90a2-9aa9d195f987",
    "pycharm": {
     "name": "#%%\n"
    }
   },
   "outputs": [],
   "source": [
    "import tensorflow as tf\n",
    "import matplotlib.pyplot as plt\n",
    "from tensorflow.python import keras\n",
    "\n",
    "plt.rcParams['figure.dpi'] = 120\n",
    "\n",
    "L = keras.layers\n",
    "\n",
    "# 构建和编译模型\n",
    "base_model = keras.Sequential([\n",
    "    L.Conv2D(input_shape=(192, 192, 3), filters=32, kernel_size=5, strides=1),\n",
    "    L.MaxPool2D(pool_size=2, strides=2),\n",
    "    L.Conv2D(filters=64, kernel_size=3, strides=1),\n",
    "    L.MaxPool2D(pool_size=2, strides=2),\n",
    "    L.Flatten(),\n",
    "    L.Dense(128, activation=tf.nn.relu),\n",
    "    L.Dense(5, activation=tf.nn.softmax)\n",
    "])\n",
    "base_model.compile(\n",
    "    optimizer=tf.optimizers.Adam(lr=5e-4),\n",
    "    loss=tf.losses.CategoricalCrossentropy(),\n",
    "    metrics=['accuracy'])\n",
    "base_model.summary()\n",
    "\n",
    "tf_board_path = 'tf_dir/chapter08/base_model'\n",
    "shutil.rmtree(tf_board_path, ignore_errors=True)\n",
    "\n",
    "# 使用 fit_generator 方法训练模型\n",
    "history = base_model.fit_generator(\n",
    "      train_generator,                 # 训练批次生成器\n",
    "      steps_per_epoch=30,              # 训练批次数量\n",
    "      epochs=50,                       # 总共训练轮数\n",
    "      validation_data=valid_generator, # 验证批次生成器\n",
    "      validation_steps=8,              # 验证批次数量\n",
    "      verbose=0,\n",
    "      callbacks=[keras.callbacks.TensorBoard(tf_board_path)],\n",
    ")\n",
    "\n",
    "del base_model"
   ]
  },
  {
   "cell_type": "code",
   "execution_count": null,
   "metadata": {
    "colab": {},
    "colab_type": "code",
    "collapsed": false,
    "id": "G-Hg6pRQ5AEf",
    "jupyter": {
     "outputs_hidden": false
    },
    "pycharm": {
     "name": "#%%\n"
    }
   },
   "outputs": [],
   "source": [
    "plt.rcParams['figure.dpi'] = 120\n",
    "\n",
    "def visualize_keras_history(history):\n",
    "    plt.figure()\n",
    "    # 设定子图大小\n",
    "    plt.subplots(figsize=(10,9))\n",
    "\n",
    "    plt.subplot(2, 2, 1)\n",
    "    plt.plot(history.history['accuracy'], label='accuracy')\n",
    "    plt.plot(history.history['val_accuracy'], label='val_accuracy')\n",
    "    plt.legend()\n",
    "    plt.title('train and validate accuracy') # 添加图形标题\n",
    "\n",
    "    plt.subplot(2, 2, 2)\n",
    "    plt.plot(history.history['loss'], label='loss')\n",
    "    plt.plot(history.history['val_loss'], label='val_loss')\n",
    "    plt.legend()\n",
    "    plt.title('train and validate loss') # 添加图形标题\n",
    "\n",
    "    plt.show()"
   ]
  },
  {
   "cell_type": "code",
   "execution_count": null,
   "metadata": {
    "colab": {},
    "colab_type": "code",
    "id": "BQbm4_sRSKa8"
   },
   "outputs": [],
   "source": [
    "visualize_keras_history(history)"
   ]
  },
  {
   "cell_type": "markdown",
   "metadata": {
    "colab_type": "text",
    "id": "kvuo030o5AEg",
    "pycharm": {
     "name": "#%% md\n"
    }
   },
   "source": [
    "### 8.1.4 数据增强"
   ]
  },
  {
   "cell_type": "code",
   "execution_count": null,
   "metadata": {
    "colab": {
     "base_uri": "https://localhost:8080/",
     "height": 1000
    },
    "colab_type": "code",
    "collapsed": false,
    "id": "8U4qgCNz5AEh",
    "jupyter": {
     "outputs_hidden": false
    },
    "outputId": "0a485bd3-1575-4c83-d4ef-7af1ef8a2800",
    "pycharm": {
     "name": "#%%\n"
    }
   },
   "outputs": [],
   "source": [
    "import tensorflow as tf\n",
    "from tensorflow.python import keras\n",
    "from tensorflow.keras.preprocessing.image import ImageDataGenerator, load_img, img_to_array\n",
    "import matplotlib.pyplot as plt\n",
    "\n",
    "plt.rcParams['figure.dpi'] = 180\n",
    "\n",
    "L = keras.layers\n",
    "\n",
    "# 读取某一张图像张量\n",
    "img_path = './data/flower_photos/dandelion/5909154147_9da14d1730_n.jpg'\n",
    "img = load_img(img_path, target_size=(220, 220)) # 读取图像\n",
    "x = img_to_array(img)                            # 将图像转换为 Numpy 数组\n",
    "x = x.reshape((1,) + x.shape)                    # 将图像形状改为 (1, 220, 220, 3)\n",
    "\n",
    "# 初始化图像数据生成器\n",
    "random_data_gen = ImageDataGenerator(\n",
    "    rescale=1./255,              # 归一化\n",
    "    rotation_range=40,           # 图像旋转范围\n",
    "    width_shift_range=0.2,       # 图像水平平移的范围（相对宽度的比例）\n",
    "    height_shift_range=0.2,      # 图像垂直平移的范围（相对宽度的比例）\n",
    "    shear_range=0.2,             # 图像错切变换的角度范围\n",
    "    zoom_range=0.2,              # 图像缩放的范围\n",
    "    brightness_range=(0.6, 1.2), # 图像亮度调整范围\n",
    "    horizontal_flip=True         # 是否随机水平翻转\n",
    ")\n",
    "\n",
    "# 生成随机变换后的批次。由于循环式无限的，需要手动 break 来中断。\n",
    "i = 0\n",
    "plt.figure(figsize=(12,12))\n",
    "# random_data_gen.flow 方法使用给定文件路径数组初始化一个生成器\n",
    "for batch in random_data_gen.flow(x, batch_size=1):\n",
    "    plt.subplot(2, 2, i+1)\n",
    "    plt.imshow(batch[0])\n",
    "    plt.grid(False)\n",
    "\n",
    "    i = i + 1\n",
    "    if i == 4:\n",
    "        break\n",
    "plt.show()"
   ]
  },
  {
   "cell_type": "code",
   "execution_count": null,
   "metadata": {
    "colab": {
     "base_uri": "https://localhost:8080/",
     "height": 51
    },
    "colab_type": "code",
    "collapsed": false,
    "id": "4iL7XMIp5AEi",
    "jupyter": {
     "outputs_hidden": false
    },
    "outputId": "39e7fbc5-3831-4b90-8366-0e4558aa2ab5",
    "pycharm": {
     "name": "#%%\n"
    }
   },
   "outputs": [],
   "source": [
    "random_data_gen = ImageDataGenerator(\n",
    "    rescale=1./255,              # 归一化\n",
    "    rotation_range=40,           # 图像旋转范围\n",
    "    width_shift_range=0.2,       # 图像水平平移的范围（相对宽度的比例）\n",
    "    height_shift_range=0.2,      # 图像垂直平移的范围（相对宽度的比例）\n",
    "    shear_range=0.2,             # 图像错切变换的角度范围\n",
    "    zoom_range=0.2,              # 图像缩放的范围\n",
    "    brightness_range=(0.6, 1.2), # 图像亮度调整范围\n",
    "    horizontal_flip=True         # 是否随机水平翻转\n",
    ")\n",
    "\n",
    "# 不能增强验证数据\n",
    "valid_data_gen = ImageDataGenerator(rescale=1./255)\n",
    "\n",
    "train_aug_gen = random_data_gen.flow_from_directory( # this function takes images from folders and feeds to Imagedatagenerator\n",
    "        train_dataset_path,\n",
    "        target_size=(192, 192),\n",
    "        batch_size=100,\n",
    "        class_mode='categorical'\n",
    ")\n",
    "\n",
    "valid_aug_gen = valid_data_gen.flow_from_directory(\n",
    "        valid_dataset_path,\n",
    "        target_size=(192, 192),\n",
    "        batch_size=100,\n",
    "        class_mode='categorical',\n",
    "        shuffle=False)"
   ]
  },
  {
   "cell_type": "code",
   "execution_count": null,
   "metadata": {
    "colab": {
     "base_uri": "https://localhost:8080/",
     "height": 1000
    },
    "colab_type": "code",
    "id": "todT9QZeShRL",
    "outputId": "682b5ced-ce7a-495f-f2c7-9a74e9d15445"
   },
   "outputs": [],
   "source": [
    "# 再次使用同样的模型以便对比效果\n",
    "aug_model = keras.Sequential([\n",
    "    L.Conv2D(input_shape=(192, 192, 3), filters=32, kernel_size=5, strides=1),\n",
    "    L.MaxPool2D(pool_size=2, strides=2),\n",
    "    L.Conv2D(filters=64, kernel_size=3, strides=1),\n",
    "    L.MaxPool2D(pool_size=2, strides=2),\n",
    "    L.Flatten(),\n",
    "    L.Dense(128, activation=tf.nn.relu),\n",
    "    L.Dense(5, activation=tf.nn.softmax)\n",
    "])\n",
    "aug_model.compile(optimizer=tf.optimizers.Adam(lr=5e-4),\n",
    "                   loss=tf.losses.CategoricalCrossentropy(),\n",
    "                   metrics=['accuracy'])\n",
    "aug_model.summary()\n",
    "\n",
    "tf_board_path = 'tf_dir/chapter08/aug_model'\n",
    "shutil.rmtree(tf_board_path, ignore_errors=True)\n",
    "\n",
    "\n",
    "# 由于这个模型不会出现过拟合，所以我们训练 100 轮来获得的更好的结果\n",
    "aug_history = aug_model.fit_generator(\n",
    "      train_aug_gen,                   # 训练批次生成器\n",
    "      steps_per_epoch=30,              # 训练批次数量\n",
    "      epochs=100,                      # 总共训练轮数\n",
    "      validation_data=valid_aug_gen,   # 验证批次生成器\n",
    "      validation_steps=8,              # 验证批次数量\n",
    "      callbacks=[keras.callbacks.TensorBoard(tf_board_path)]\n",
    ")\n",
    "del aug_model"
   ]
  },
  {
   "cell_type": "code",
   "execution_count": null,
   "metadata": {
    "colab": {
     "base_uri": "https://localhost:8080/",
     "height": 168
    },
    "colab_type": "code",
    "id": "fEvutqVrSn-W",
    "outputId": "0e622b98-3301-40bd-dda0-2bf765b0790d"
   },
   "outputs": [],
   "source": [
    "visualize_keras_history(aug_history)"
   ]
  },
  {
   "cell_type": "markdown",
   "metadata": {
    "colab_type": "text",
    "id": "mu1PHaDv5AEk"
   },
   "source": [
    "## 8.2 迁移学习"
   ]
  },
  {
   "cell_type": "markdown",
   "metadata": {
    "colab_type": "text",
    "id": "1L4nOqO6SudD"
   },
   "source": [
    "### 8.2.1 VGG16 预训练模型"
   ]
  },
  {
   "cell_type": "code",
   "execution_count": null,
   "metadata": {
    "colab": {
     "base_uri": "https://localhost:8080/",
     "height": 935
    },
    "colab_type": "code",
    "id": "ohMcJzzx5AEl",
    "outputId": "b16698c5-128c-4a8d-d038-9354cc1e805c"
   },
   "outputs": [],
   "source": [
    "from tensorflow.keras.applications import VGG16\n",
    "\n",
    "vgg = VGG16(weights='imagenet')\n",
    "vgg.summary()"
   ]
  },
  {
   "cell_type": "markdown",
   "metadata": {
    "colab_type": "text",
    "id": "BMg9EDu9UfQ6"
   },
   "source": [
    "### 8.2.2 特征提取"
   ]
  },
  {
   "cell_type": "code",
   "execution_count": null,
   "metadata": {
    "colab": {
     "base_uri": "https://localhost:8080/",
     "height": 799
    },
    "colab_type": "code",
    "id": "NITZwIDQ5AEm",
    "outputId": "00582d7f-7f79-4b35-c1b1-08c055b8f3da"
   },
   "outputs": [],
   "source": [
    "import tensorflow as tf\n",
    "from tensorflow.python import keras\n",
    "from tensorflow.keras.applications import VGG16\n",
    "\n",
    "vgg_base = VGG16(weights='imagenet',      # 加载 imagenet 权重，如果传 None 则随机初始化权重\n",
    "                 include_top=False,       # 是否包括模型最后的全连接分类器，这里不需要\n",
    "                 input_shape=(192,192,3)) # 输入图像尺寸\n",
    "vgg_base.summary()"
   ]
  },
  {
   "cell_type": "code",
   "execution_count": null,
   "metadata": {
    "colab": {
     "base_uri": "https://localhost:8080/",
     "height": 323
    },
    "colab_type": "code",
    "id": "xYkfL6PV5AEo",
    "outputId": "7cef1897-f9f5-430c-da9e-2af6f8ee270c"
   },
   "outputs": [],
   "source": [
    "# 冻结卷积基中所有层\n",
    "# 注意修改模型层 trainable 属性后需要重新编译模型，否则不会生效\n",
    "for layer in vgg_base.layers:\n",
    "    layer.trainable = False\n",
    "\n",
    "L = keras.layers\n",
    "# 创建新模型\n",
    "feature_extract_model = keras.Sequential([\n",
    "    vgg_base,    # 使用卷积基模型作为第一层，相当于把这个模型所有的层加到新模型中\n",
    "    L.Flatten(), # 使用一个 Flatten 把上层特征拉平成一维张量\n",
    "    L.Dense(128, activation=tf.nn.relu),\n",
    "    L.Dropout(0.5),\n",
    "    L.Dense(5, activation=tf.nn.softmax)\n",
    "])\n",
    "\n",
    "feature_extract_model.compile(\n",
    "    optimizer=tf.optimizers.Adam(lr=2e-4),\n",
    "    loss=tf.losses.CategoricalCrossentropy(),\n",
    "    metrics=['accuracy'])\n",
    "\n",
    "feature_extract_model.summary()"
   ]
  },
  {
   "cell_type": "code",
   "execution_count": null,
   "metadata": {
    "colab": {
     "base_uri": "https://localhost:8080/",
     "height": 1000
    },
    "colab_type": "code",
    "id": "zf8Hf1SG5AEp",
    "outputId": "ad63ddc4-5ac9-4a8c-9d72-0e0b334f9f78"
   },
   "outputs": [],
   "source": [
    "tf_board_path = 'tf_dir/chapter08/vgg_feature_extract'\n",
    "shutil.rmtree(tf_board_path, ignore_errors=True)\n",
    "\n",
    "# 开始训练\n",
    "vgg_feature_extract_hist = feature_extract_model.fit_generator(\n",
    "      train_aug_gen,                   # 训练批次生成器\n",
    "      steps_per_epoch=30,              # 训练批次数量\n",
    "      epochs=50,                       # 总共训练轮数\n",
    "      validation_data=valid_aug_gen,   # 验证批次生成器\n",
    "      validation_steps=8,              # 验证批次数量\n",
    "      verbose=0,\n",
    "      callbacks=[keras.callbacks.TensorBoard(tf_board_path)]\n",
    ")    \n",
    "del feature_extract_model"
   ]
  },
  {
   "cell_type": "code",
   "execution_count": null,
   "metadata": {
    "colab": {
     "base_uri": "https://localhost:8080/",
     "height": 725
    },
    "colab_type": "code",
    "id": "NVUN_-ZQSF09",
    "outputId": "eb544219-eef2-4fd7-9a62-588f8acd6531"
   },
   "outputs": [],
   "source": [
    "visualize_keras_history(vgg_feature_extract_hist)"
   ]
  },
  {
   "cell_type": "markdown",
   "metadata": {
    "colab_type": "text",
    "id": "Q61pV69g5AEr"
   },
   "source": [
    "### 8.2.3 微调模型"
   ]
  },
  {
   "cell_type": "code",
   "execution_count": null,
   "metadata": {
    "colab": {
     "base_uri": "https://localhost:8080/",
     "height": 637
    },
    "colab_type": "code",
    "id": "-UeNAkCJ5AEr",
    "outputId": "0eb4508f-cb93-4c43-9f83-b85afa431abc"
   },
   "outputs": [],
   "source": [
    "import tensorflow as tf\n",
    "from tensorflow.python import keras\n",
    "from tensorflow.keras.applications import VGG16\n",
    "\n",
    "# 加载预训练 VGG16 模型卷积基\n",
    "vgg_base = VGG16(weights='imagenet', include_top=False, input_shape=(192, 192, 3))\n",
    "\n",
    "# 冻结卷积基最后四层以外的层\n",
    "for layer in vgg_base.layers[:-4]:\n",
    "    layer.trainable = False\n",
    "\n",
    "# 创建新模型\n",
    "vgg_model = keras.Sequential([\n",
    "    vgg_base,\n",
    "    L.Flatten(),\n",
    "    L.Dense(64, activation=tf.nn.relu),\n",
    "    L.Dropout(0.5),\n",
    "    L.Dense(5, activation=tf.nn.softmax)\n",
    "])\n",
    "\n",
    "# 注意这里一定要用很小的学习率，否则会优化过程中会破坏最后一层的权重，达不到微调效果\n",
    "vgg_model.compile(\n",
    "    optimizer=tf.optimizers.Adam(lr=1e-4),\n",
    "    loss=tf.losses.CategoricalCrossentropy(),\n",
    "    metrics=['accuracy'])\n",
    "\n",
    "vgg_model.summary()\n",
    "\n",
    "tf_board_path = 'tf_dir/chapter08/vgg_fine_tune'\n",
    "shutil.rmtree(tf_board_path, ignore_errors=True)\n",
    "\n",
    "# 开始训练\n",
    "vgg_fine_tune_hist = vgg_model.fit_generator(\n",
    "      train_aug_gen,                   # 训练批次生成器\n",
    "      steps_per_epoch=30,              # 训练批次数量\n",
    "      epochs=50,                       # 总共训练轮数\n",
    "      validation_data=valid_aug_gen,   # 验证批次生成器\n",
    "      validation_steps=8,              # 验证批次数量\n",
    "      callbacks=[keras.callbacks.TensorBoard(tf_board_path)]\n",
    ")"
   ]
  },
  {
   "cell_type": "code",
   "execution_count": null,
   "metadata": {
    "colab": {},
    "colab_type": "code",
    "id": "JL4tnx-3SU2Q"
   },
   "outputs": [],
   "source": [
    "visualize_keras_history(vgg_fine_tune_hist)"
   ]
  },
  {
   "cell_type": "markdown",
   "metadata": {
    "colab_type": "text",
    "id": "ITxYt5zd5AEt"
   },
   "source": [
    "### 8.2.4 保存模型"
   ]
  },
  {
   "cell_type": "code",
   "execution_count": null,
   "metadata": {
    "colab": {},
    "colab_type": "code",
    "id": "nBIxyY185AEt"
   },
   "outputs": [],
   "source": [
    "import json\n",
    "\n",
    "# 创建目录\n",
    "model_folder = pathlib.Path('outputs/flower_recognizer/vgg16')\n",
    "model_folder.mkdir(parents=True, exist_ok=True)\n",
    "\n",
    "# 保存模型\n",
    "vgg_model.save(os.path.join(model_folder, 'model.h5'))\n",
    "# 保存分类索引\n",
    "with open(os.path.join(model_folder, 'label2idx.json'), 'w') as f:\n",
    "    f.write(json.dumps(train_aug_gen.class_indices))\n",
    "del vgg_model"
   ]
  },
  {
   "cell_type": "markdown",
   "metadata": {
    "colab_type": "text",
    "id": "bm1sW7O75AEv"
   },
   "source": [
    "## 8.3 TensorHub 迁移学习"
   ]
  },
  {
   "cell_type": "code",
   "execution_count": null,
   "metadata": {
    "colab": {},
    "colab_type": "code",
    "id": "coPY0Jae5AEv"
   },
   "outputs": [],
   "source": [
    "import os\n",
    "import tensorflow as tf\n",
    "import tensorflow_hub as hub\n",
    "\n",
    "os.environ['TFHUB_CACHE_DIR'] = './data/tf_cache'\n",
    "MODEL_PATH = \"https://hub.tensorflow.google.cn/google/imagenet/mobilenet_v2_050_192/classification/4\""
   ]
  },
  {
   "cell_type": "code",
   "execution_count": null,
   "metadata": {
    "colab": {
     "base_uri": "https://localhost:8080/",
     "height": 221
    },
    "colab_type": "code",
    "id": "6jTQAOHY5AE0",
    "outputId": "3a1c1db9-cd87-4441-a3e5-6cf691f2b037"
   },
   "outputs": [],
   "source": [
    "hub_model = tf.keras.Sequential([\n",
    "    # 初始化 MobileNet 层\n",
    "    hub.KerasLayer(MODEL_PATH,\n",
    "                   input_shape=(192, 192, 3),\n",
    "                   trainable=True),\n",
    "    # 在 MobieNet 后面拼接分类层\n",
    "    L.Dense(64, activation=tf.nn.relu),\n",
    "    L.Dropout(0.5),\n",
    "    L.Dense(5, activation=tf.nn.softmax)\n",
    "])\n",
    "\n",
    "hub_model.compile(\n",
    "    optimizer=tf.optimizers.Adam(lr=1e-4),\n",
    "    loss=tf.losses.CategoricalCrossentropy(),\n",
    "    metrics=['accuracy'])"
   ]
  },
  {
   "cell_type": "code",
   "execution_count": null,
   "metadata": {
    "colab": {
     "base_uri": "https://localhost:8080/",
     "height": 34
    },
    "colab_type": "code",
    "id": "35971qcX5AE2",
    "outputId": "61179644-5379-4b58-9a39-5583809f89d7"
   },
   "outputs": [],
   "source": [
    "tf_board_path = 'tf_dir/chapter08/hub_model'\n",
    "shutil.rmtree(tf_board_path, ignore_errors=True)\n",
    "\n",
    "# 开始训练\n",
    "hub_model_his = hub_model.fit_generator(\n",
    "      train_aug_gen,                   # 训练批次生成器\n",
    "      steps_per_epoch=30,              # 训练批次数量\n",
    "      epochs=30,                       # 总共训练轮数\n",
    "      validation_data=valid_aug_gen,   # 验证批次生成器\n",
    "      validation_steps=8,              # 验证批次数量\n",
    "      callbacks=[keras.callbacks.TensorBoard(tf_board_path)]\n",
    ")"
   ]
  },
  {
   "cell_type": "code",
   "execution_count": null,
   "metadata": {
    "colab": {},
    "colab_type": "code",
    "id": "mzLz8a3X5AE3"
   },
   "outputs": [],
   "source": [
    "visualize_keras_history(hub_model_his)"
   ]
  },
  {
   "cell_type": "code",
   "execution_count": null,
   "metadata": {},
   "outputs": [],
   "source": [
    "import json\n",
    "\n",
    "# 创建目录\n",
    "model_folder = pathlib.Path('outputs/flower_recognizer/mobile_net')\n",
    "model_folder.mkdir(parents=True, exist_ok=True)\n",
    "\n",
    "# 保存模型\n",
    "hub_model.save(os.path.join(model_folder, 'model.h5'))\n",
    "# 保存分类索引\n",
    "with open(os.path.join(model_folder, 'label2idx.json'), 'w') as f:\n",
    "    f.write(json.dumps(train_aug_gen.class_indices))\n",
    "\n",
    "del hub_model"
   ]
  },
  {
   "cell_type": "code",
   "execution_count": null,
   "metadata": {},
   "outputs": [],
   "source": [
    "import datetime\n",
    "print(datetime.datetime.now().strftime('%Y-%m-%d %H:%M:%S'))"
   ]
  },
  {
   "cell_type": "code",
   "execution_count": null,
   "outputs": [],
   "source": [],
   "metadata": {
    "collapsed": false,
    "pycharm": {
     "name": "#%%\n"
    }
   }
  }
 ],
 "metadata": {
  "accelerator": "GPU",
  "colab": {
   "collapsed_sections": [],
   "name": "chapter-08.ipynb",
   "provenance": [],
   "toc_visible": true
  },
  "kernelspec": {
   "name": "pycharm-10237b69",
   "language": "python",
   "display_name": "PyCharm (git_jia)"
  },
  "language_info": {
   "codemirror_mode": {
    "name": "ipython",
    "version": 3
   },
   "file_extension": ".py",
   "mimetype": "text/x-python",
   "name": "python",
   "nbconvert_exporter": "python",
   "pygments_lexer": "ipython3",
   "version": "3.7.3"
  }
 },
 "nbformat": 4,
 "nbformat_minor": 4
}