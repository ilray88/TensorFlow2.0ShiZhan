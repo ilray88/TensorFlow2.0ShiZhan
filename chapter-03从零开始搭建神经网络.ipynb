{
 "cells": [
  {
   "cell_type": "markdown",
   "metadata": {},
   "source": [
    "# 第 3 章 从零搭建神经网络\n",
    "\n",
    "该章节内容翻译自 [Victor Zhou](https://victorzhou.com/) 的博客 [Machine Learning for Beginners: An Introduction to Neural Networks](https://victorzhou.com/blog/intro-to-neural-networks/)，已获得作者授权。\n"
   ]
  },
  {
   "cell_type": "markdown",
   "metadata": {},
   "source": [
    "## 神经元的实现"
   ]
  },
  {
   "cell_type": "code",
   "execution_count": 17,
   "metadata": {
    "tags": []
   },
   "outputs": [
    {
     "name": "stdout",
     "output_type": "stream",
     "text": [
      "0.9990889488055994\n"
     ]
    }
   ],
   "source": [
    "import numpy as np\n",
    "\n",
    "def sigmoid(x: np.ndarray) -> np.ndarray:\n",
    "    # Sigmoid 激活函数: f(x) = 1 / (1 + e^(-x))\n",
    "    return 1 / (1 + np.exp(-x))\n",
    "\n",
    "class Neuron:\n",
    "    def __init__(self, weights: np.ndarray, bias: np.ndarray):\n",
    "        self.weights = weights\n",
    "        self.bias = bias\n",
    "\n",
    "    def feedforward(self, inputs: np.ndarray) -> np.ndarray:\n",
    "        # 点积权重和输入, 添加偏差\n",
    "        total = np.dot(self.weights, inputs) + self.bias\n",
    "        # 使用激活函数处理\n",
    "        return sigmoid(total)\n",
    "\n",
    "weights = np.array([0, 1]) # w1 = 0, w2 = 1\n",
    "bias = 4                   # b = 4\n",
    "n = Neuron(weights, bias)\n",
    "\n",
    "x = np.array([2, 3])       # x1 = 2, x2 = 3\n",
    "print(n.feedforward(x))    # 0.9990889488055994"
   ]
  },
  {
   "cell_type": "markdown",
   "metadata": {},
   "source": [
    "## 神经网络的实现"
   ]
  },
  {
   "cell_type": "code",
   "execution_count": 18,
   "metadata": {
    "tags": []
   },
   "outputs": [
    {
     "name": "stdout",
     "output_type": "stream",
     "text": [
      "0.7216325609518421\n"
     ]
    }
   ],
   "source": [
    "import numpy as np\n",
    "\n",
    "# 神经元的定义代码部分\n",
    "class OurNeuralNetwork:\n",
    "    \"\"\"\n",
    "    包含以下层的神经网络:\n",
    "    - 2 个输入\n",
    "    - 1 个包含 2 个神经元（h1, h2）的隐藏层\n",
    "    - 1 个包含 1 个神经元（o1）的输出层\n",
    "    所有的神经元有同样的权重和偏差：\n",
    "    - w = [0, 1]\n",
    "    - b = 0\n",
    "    \"\"\"\n",
    "\n",
    "    def __init__(self):\n",
    "        weights = np.array([0, 1])\n",
    "        bias = 0\n",
    "\n",
    "        # 神经元（Neuron）类来自之前的定义\n",
    "        self.h1 = Neuron(weights, bias)\n",
    "        self.h2 = Neuron(weights, bias)\n",
    "        self.o1 = Neuron(weights, bias)\n",
    "\n",
    "    def feedforward(self, x: np.ndarray):\n",
    "        # 使用隐藏层1（h1）前向传播 x，得到结果 out_h1\n",
    "        out_h1 = self.h1.feedforward(x)\n",
    "        # 使用隐藏层2（h2）前向传播 x，得到结果 out_h2\n",
    "        out_h2 = self.h2.feedforward(x)\n",
    "\n",
    "        # o1 输出层的输入来自 h1 和 h2 的输出\n",
    "        # out_o1 为 o1 层前向传播后结果\n",
    "        out_o1 = self.o1.feedforward(np.array([out_h1, out_h2]))\n",
    "\n",
    "        return out_o1\n",
    "\n",
    "network = OurNeuralNetwork()\n",
    "x = np.array([2, 3])\n",
    "print(network.feedforward(x))  # 0.7216325609518421"
   ]
  },
  {
   "cell_type": "markdown",
   "metadata": {},
   "source": [
    "### 均方误差的实现"
   ]
  },
  {
   "cell_type": "code",
   "execution_count": 19,
   "metadata": {
    "tags": []
   },
   "outputs": [
    {
     "name": "stdout",
     "output_type": "stream",
     "text": [
      "0.5\n"
     ]
    },
    {
     "name": "stderr",
     "output_type": "stream",
     "text": [
      "D:\\0ilraypan\\python_work\\env\\tensorflow2.0\\lib\\site-packages\\ipykernel_launcher.py:3: DeprecationWarning: `np.float` is a deprecated alias for the builtin `float`. To silence this warning, use `float` by itself. Doing this will not modify any behavior and is safe. If you specifically wanted the numpy scalar type, use `np.float64` here.\n",
      "Deprecated in NumPy 1.20; for more details and guidance: https://numpy.org/devdocs/release/1.20.0-notes.html#deprecations\n",
      "  This is separate from the ipykernel package so we can avoid doing imports until\n"
     ]
    }
   ],
   "source": [
    "import numpy as np\n",
    "\n",
    "def mse_loss(y_true: np.ndarray, y_pred: np.ndarray) -> np.float:\n",
    "    # y_true 是 y_pred 同样形状的 Numpy 数组\n",
    "    return ((y_true - y_pred) ** 2).mean()\n",
    "\n",
    "y_true = np.array([1, 0, 0, 1])\n",
    "y_pred = np.array([0, 0, 0, 0])\n",
    "\n",
    "print(mse_loss(y_true, y_pred)) # 0.5"
   ]
  },
  {
   "cell_type": "markdown",
   "metadata": {},
   "source": [
    "### 完整的代码实现"
   ]
  },
  {
   "cell_type": "code",
   "execution_count": 20,
   "metadata": {
    "tags": []
   },
   "outputs": [
    {
     "name": "stdout",
     "output_type": "stream",
     "text": [
      "Epoch 0 loss: 0.206\n",
      "Epoch 10 loss: 0.119\n",
      "Epoch 20 loss: 0.090\n",
      "Epoch 30 loss: 0.073\n",
      "Epoch 40 loss: 0.061\n",
      "Epoch 50 loss: 0.052\n",
      "Epoch 60 loss: 0.045\n",
      "Epoch 70 loss: 0.040\n",
      "Epoch 80 loss: 0.035\n",
      "Epoch 90 loss: 0.032\n",
      "Epoch 100 loss: 0.029\n",
      "Epoch 110 loss: 0.026\n",
      "Epoch 120 loss: 0.024\n",
      "Epoch 130 loss: 0.022\n",
      "Epoch 140 loss: 0.020\n",
      "Epoch 150 loss: 0.019\n",
      "Epoch 160 loss: 0.018\n",
      "Epoch 170 loss: 0.017\n",
      "Epoch 180 loss: 0.016\n",
      "Epoch 190 loss: 0.015\n",
      "Epoch 200 loss: 0.014\n",
      "Epoch 210 loss: 0.013\n",
      "Epoch 220 loss: 0.013\n",
      "Epoch 230 loss: 0.012\n",
      "Epoch 240 loss: 0.011\n",
      "Epoch 250 loss: 0.011\n",
      "Epoch 260 loss: 0.010\n",
      "Epoch 270 loss: 0.010\n",
      "Epoch 280 loss: 0.010\n",
      "Epoch 290 loss: 0.009\n",
      "Epoch 300 loss: 0.009\n",
      "Epoch 310 loss: 0.009\n",
      "Epoch 320 loss: 0.008\n",
      "Epoch 330 loss: 0.008\n",
      "Epoch 340 loss: 0.008\n",
      "Epoch 350 loss: 0.007\n",
      "Epoch 360 loss: 0.007\n",
      "Epoch 370 loss: 0.007\n",
      "Epoch 380 loss: 0.007\n",
      "Epoch 390 loss: 0.007\n",
      "Epoch 400 loss: 0.006\n",
      "Epoch 410 loss: 0.006\n",
      "Epoch 420 loss: 0.006\n",
      "Epoch 430 loss: 0.006\n",
      "Epoch 440 loss: 0.006\n",
      "Epoch 450 loss: 0.006\n",
      "Epoch 460 loss: 0.005\n",
      "Epoch 470 loss: 0.005\n",
      "Epoch 480 loss: 0.005\n",
      "Epoch 490 loss: 0.005\n",
      "Epoch 500 loss: 0.005\n",
      "Epoch 510 loss: 0.005\n",
      "Epoch 520 loss: 0.005\n",
      "Epoch 530 loss: 0.005\n",
      "Epoch 540 loss: 0.005\n",
      "Epoch 550 loss: 0.004\n",
      "Epoch 560 loss: 0.004\n",
      "Epoch 570 loss: 0.004\n",
      "Epoch 580 loss: 0.004\n",
      "Epoch 590 loss: 0.004\n",
      "Epoch 600 loss: 0.004\n",
      "Epoch 610 loss: 0.004\n",
      "Epoch 620 loss: 0.004\n",
      "Epoch 630 loss: 0.004\n",
      "Epoch 640 loss: 0.004\n",
      "Epoch 650 loss: 0.004\n",
      "Epoch 660 loss: 0.004\n",
      "Epoch 670 loss: 0.004\n",
      "Epoch 680 loss: 0.004"
     ]
    },
    {
     "name": "stderr",
     "output_type": "stream",
     "text": [
      "D:\\0ilraypan\\python_work\\env\\tensorflow2.0\\lib\\site-packages\\ipykernel_launcher.py:17: DeprecationWarning: `np.float` is a deprecated alias for the builtin `float`. To silence this warning, use `float` by itself. Doing this will not modify any behavior and is safe. If you specifically wanted the numpy scalar type, use `np.float64` here.\n",
      "Deprecated in NumPy 1.20; for more details and guidance: https://numpy.org/devdocs/release/1.20.0-notes.html#deprecations\n"
     ]
    },
    {
     "name": "stdout",
     "output_type": "stream",
     "text": [
      "\n",
      "Epoch 690 loss: 0.003\n",
      "Epoch 700 loss: 0.003\n",
      "Epoch 710 loss: 0.003\n",
      "Epoch 720 loss: 0.003\n",
      "Epoch 730 loss: 0.003\n",
      "Epoch 740 loss: 0.003\n",
      "Epoch 750 loss: 0.003\n",
      "Epoch 760 loss: 0.003\n",
      "Epoch 770 loss: 0.003\n",
      "Epoch 780 loss: 0.003\n",
      "Epoch 790 loss: 0.003\n",
      "Epoch 800 loss: 0.003\n",
      "Epoch 810 loss: 0.003\n",
      "Epoch 820 loss: 0.003\n",
      "Epoch 830 loss: 0.003\n",
      "Epoch 840 loss: 0.003\n",
      "Epoch 850 loss: 0.003\n",
      "Epoch 860 loss: 0.003\n",
      "Epoch 870 loss: 0.003\n",
      "Epoch 880 loss: 0.003\n",
      "Epoch 890 loss: 0.003\n",
      "Epoch 900 loss: 0.003\n",
      "Epoch 910 loss: 0.003\n",
      "Epoch 920 loss: 0.003\n",
      "Epoch 930 loss: 0.003\n",
      "Epoch 940 loss: 0.002\n",
      "Epoch 950 loss: 0.002\n",
      "Epoch 960 loss: 0.002\n",
      "Epoch 970 loss: 0.002\n",
      "Epoch 980 loss: 0.002\n",
      "Epoch 990 loss: 0.002\n"
     ]
    }
   ],
   "source": [
    "%matplotlib inline\n",
    "\n",
    "import numpy as np\n",
    "\n",
    "\n",
    "def sigmoid(x: np.ndarray) -> np.ndarray:\n",
    "    # Sigmoid 激活函数: f(x) = 1 / (1 + e^(-x))\n",
    "    return 1 / (1 + np.exp(-x))\n",
    "\n",
    "\n",
    "def deriv_sigmoid(x: np.ndarray) -> np.ndarray:\n",
    "    # Sigmoid 求导: f'(x) = f(x) * (1 - f(x))\n",
    "    fx = sigmoid(x)\n",
    "    return fx * (1 - fx)\n",
    "\n",
    "\n",
    "def mse_loss(y_true: np.ndarray, y_pred: np.ndarray) -> np.float:\n",
    "    return ((y_true - y_pred) ** 2).mean()\n",
    "\n",
    "\n",
    "class OurNeuralNetwork:\n",
    "    \"\"\"\n",
    "    包含以下层的神经网络:\n",
    "      - 2 个输入\n",
    "      - 1 个包含 2 个神经元（h1, h2）的隐藏层\n",
    "      - 1 个包含 1 个神经元（o1）的输出层\n",
    "\n",
    "    *** 注意 ***:\n",
    "    下面代码并不是真正的神经网络代码，主要是为了演示整个过程。\n",
    "    但是可以通过这个代码去理解此特定神经网络的工作原理。\n",
    "    \"\"\"\n",
    "\n",
    "    def __init__(self):\n",
    "        # 权重\n",
    "        self.w1 = np.random.normal()\n",
    "        self.w2 = np.random.normal()\n",
    "        self.w3 = np.random.normal()\n",
    "        self.w4 = np.random.normal()\n",
    "        self.w5 = np.random.normal()\n",
    "        self.w6 = np.random.normal()\n",
    "\n",
    "        # 偏移量\n",
    "        self.b1 = np.random.normal()\n",
    "        self.b2 = np.random.normal()\n",
    "        self.b3 = np.random.normal()\n",
    "\n",
    "        # 这里记录 loss，我们一会用这个绘制 loss 变化曲线\n",
    "        self.loss_history = []\n",
    "\n",
    "    def feedforward(self, x: np.ndarray) -> np.ndarray:\n",
    "        \"\"\"\n",
    "        进行前向传播\n",
    "        Args:\n",
    "            x: 前向传播的张量，包含两个元素的 numpy 数组\n",
    "        Returns:\n",
    "            前向传播的结果\n",
    "        \"\"\"\n",
    "        h1 = sigmoid(self.w1 * x[0] + self.w2 * x[1] + self.b1)\n",
    "        h2 = sigmoid(self.w3 * x[0] + self.w4 * x[1] + self.b2)\n",
    "        o1 = sigmoid(self.w5 * h1 + self.w6 * h2 + self.b3)\n",
    "        return o1\n",
    "\n",
    "    def train(self, data: np.ndarray, all_y_trues: np.ndarray):\n",
    "        \"\"\"\n",
    "        训练过程\n",
    "        Args:\n",
    "            data: （n x 2）的 numpy 数组，n 是数据的数量。\n",
    "            all_y_trues: 包含 n 个元素的 numpy 数组。\n",
    "        \"\"\"\n",
    "        learn_rate = 0.1\n",
    "        epochs = 1000  # 循环遍历整个数据集的次数\n",
    "\n",
    "        for epoch in range(epochs):\n",
    "            for x, y_true in zip(data, all_y_trues):\n",
    "                # --- 前向传播\n",
    "                sum_h1 = self.w1 * x[0] + self.w2 * x[1] + self.b1\n",
    "                h1 = sigmoid(sum_h1)\n",
    "\n",
    "                sum_h2 = self.w3 * x[0] + self.w4 * x[1] + self.b2\n",
    "                h2 = sigmoid(sum_h2)\n",
    "\n",
    "                sum_o1 = self.w5 * h1 + self.w6 * h2 + self.b3\n",
    "                o1 = sigmoid(sum_o1)\n",
    "                y_pred = o1\n",
    "\n",
    "                # --- 计算偏导。\n",
    "                # --- 命名规范: d_L_d_w1 代表 \"偏导 L / 偏导 w1\"\n",
    "                d_L_d_ypred = -2 * (y_true - y_pred)\n",
    "\n",
    "                # Neuron o1\n",
    "                d_ypred_d_w5 = h1 * deriv_sigmoid(sum_o1)\n",
    "                d_ypred_d_w6 = h2 * deriv_sigmoid(sum_o1)\n",
    "                d_ypred_d_b3 = deriv_sigmoid(sum_o1)\n",
    "\n",
    "                d_ypred_d_h1 = self.w5 * deriv_sigmoid(sum_o1)\n",
    "                d_ypred_d_h2 = self.w6 * deriv_sigmoid(sum_o1)\n",
    "\n",
    "                # Neuron h1\n",
    "                d_h1_d_w1 = x[0] * deriv_sigmoid(sum_h1)\n",
    "                d_h1_d_w2 = x[1] * deriv_sigmoid(sum_h1)\n",
    "                d_h1_d_b1 = deriv_sigmoid(sum_h1)\n",
    "\n",
    "                # Neuron h2\n",
    "                d_h2_d_w3 = x[0] * deriv_sigmoid(sum_h2)\n",
    "                d_h2_d_w4 = x[1] * deriv_sigmoid(sum_h2)\n",
    "                d_h2_d_b2 = deriv_sigmoid(sum_h2)\n",
    "\n",
    "                # --- 更新权重和偏移量\n",
    "                # Neuron h1\n",
    "                self.w1 -= learn_rate * d_L_d_ypred * d_ypred_d_h1 * d_h1_d_w1\n",
    "                self.w2 -= learn_rate * d_L_d_ypred * d_ypred_d_h1 * d_h1_d_w2\n",
    "                self.b1 -= learn_rate * d_L_d_ypred * d_ypred_d_h1 * d_h1_d_b1\n",
    "\n",
    "                # Neuron h2\n",
    "                self.w3 -= learn_rate * d_L_d_ypred * d_ypred_d_h2 * d_h2_d_w3\n",
    "                self.w4 -= learn_rate * d_L_d_ypred * d_ypred_d_h2 * d_h2_d_w4\n",
    "                self.b2 -= learn_rate * d_L_d_ypred * d_ypred_d_h2 * d_h2_d_b2\n",
    "\n",
    "                # Neuron o1\n",
    "                self.w5 -= learn_rate * d_L_d_ypred * d_ypred_d_w5\n",
    "                self.w6 -= learn_rate * d_L_d_ypred * d_ypred_d_w6\n",
    "                self.b3 -= learn_rate * d_L_d_ypred * d_ypred_d_b3\n",
    "\n",
    "            # --- 每 10 轮循环计算一次整体的损失\n",
    "            if epoch % 10 == 0:\n",
    "                # np.apply_along_axis 函数的主要功能就是对数组里的每一个元素进行变换\n",
    "                # 下面函数可以简单理解为 y_preds = [self.feedforward(i) for i in data]\n",
    "                # 这里就是对元素所有的元素进行前向传播，然后计算 loss\n",
    "                y_preds = np.apply_along_axis(self.feedforward, 1, data)\n",
    "\n",
    "                loss = mse_loss(all_y_trues, y_preds)\n",
    "                self.loss_history.append(loss)\n",
    "                print(\"Epoch %d loss: %.3f\" % (epoch, loss))\n",
    "\n",
    "\n",
    "# 定义数据集\n",
    "data = np.array([\n",
    "    [-2, -1],  # Alice\n",
    "    [25, 6],   # Bob\n",
    "    [17, 4],   # Charlie\n",
    "    [-15, -6], # Diana\n",
    "])\n",
    "all_y_trues = np.array([\n",
    "    1,  # Alice\n",
    "    0,  # Bob\n",
    "    0,  # Charlie\n",
    "    1,  # Diana\n",
    "])\n",
    "\n",
    "# 训练神经网络\n",
    "network = OurNeuralNetwork()\n",
    "network.train(data, all_y_trues)"
   ]
  },
  {
   "cell_type": "code",
   "execution_count": 21,
   "metadata": {},
   "outputs": [
    {
     "data": {
      "text/plain": "<Figure size 1800x1200 with 1 Axes>",
      "image/png": "[encoded data removed]"
     },
     "metadata": {
      "needs_background": "light"
     },
     "output_type": "display_data"
    }
   ],
   "source": [
    "# 绘制 loss 曲线\n",
    "import matplotlib.pyplot as plt\n",
    "# 如果绘制图表不清晰，可以设置高 dpi 来提高图表清晰度\n",
    "plt.rcParams['figure.dpi'] = 300\n",
    "\n",
    "# 绘制 loss 图像\n",
    "plt.figure()\n",
    "plt.plot(np.linspace(0, 1000, 100), network.loss_history)\n",
    "plt.title('Neural Network Loss vs. Epochs')  # 给 x 轴添加标签\n",
    "plt.xlabel('Epoch')  # 给 x 轴添加标签\n",
    "plt.ylabel('loss')  # 给 y 轴添加标签\n",
    "plt.show()"
   ]
  },
  {
   "cell_type": "code",
   "execution_count": 22,
   "metadata": {
    "tags": []
   },
   "outputs": [
    {
     "name": "stdout",
     "output_type": "stream",
     "text": [
      "Emily: 0.966\n",
      "Frank: 0.056\n"
     ]
    }
   ],
   "source": [
    "# 试试预测结果\n",
    "emily = np.array([-7, -3]) # 128 pounds, 63 inches\n",
    "frank = np.array([20, 2])  # 155 pounds, 68 inches\n",
    "\n",
    "print(\"Emily: %.3f\" % network.feedforward(emily)) # 0.969 - 女性\n",
    "print(\"Frank: %.3f\" % network.feedforward(frank)) # 0.969 - 男性"
   ]
  },
  {
   "cell_type": "code",
   "execution_count": 23,
   "metadata": {},
   "outputs": [
    {
     "data": {
      "text/plain": "numpy.ndarray"
     },
     "execution_count": 23,
     "metadata": {},
     "output_type": "execute_result"
    }
   ],
   "source": [
    "np.ndarray"
   ]
  },
  {
   "cell_type": "code",
   "execution_count": 24,
   "outputs": [
    {
     "name": "stdout",
     "output_type": "stream",
     "text": [
      "2021-10-29 10:01:03\n"
     ]
    }
   ],
   "source": [
    "import datetime\n",
    "print(datetime.datetime.now().strftime('%Y-%m-%d %H:%M:%S'))"
   ],
   "metadata": {
    "collapsed": false,
    "pycharm": {
     "name": "#%%\n"
    }
   }
  },
  {
   "cell_type": "code",
   "execution_count": 24,
   "outputs": [],
   "source": [],
   "metadata": {
    "collapsed": false,
    "pycharm": {
     "name": "#%%\n"
    }
   }
  }
 ],
 "metadata": {
  "kernelspec": {
   "name": "pycharm-10237b69",
   "language": "python",
   "display_name": "PyCharm (git_jia)"
  },
  "language_info": {
   "codemirror_mode": {
    "name": "ipython",
    "version": 3
   },
   "file_extension": ".py",
   "mimetype": "text/x-python",
   "name": "python",
   "nbconvert_exporter": "python",
   "pygments_lexer": "ipython3",
   "version": "3.7.3"
  }
 },
 "nbformat": 4,
 "nbformat_minor": 4
}